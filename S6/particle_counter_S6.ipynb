{
 "cells": [
  {
   "cell_type": "code",
   "execution_count": null,
   "id": "c70c2ee1",
   "metadata": {},
   "outputs": [],
   "source": [
    "%matplotlib inline\n",
    "\n",
    "import numpy as np\n",
    "import pandas as pd\n",
    "\n",
    "import pims\n",
    "import trackpy as tp\n",
    "import os\n",
    "\n",
    "import cv2\n",
    "\n",
    "import matplotlib  as mpl \n",
    "import matplotlib.pyplot as plt \n",
    "import plotly.express as px\n",
    "\n",
    "# Optionally, tweak styles.\n",
    "mpl.rc('figure',  figsize=(15, 12)) #(10, 6)\n",
    "mpl.rc('image', cmap='gray')"
   ]
  },
  {
   "cell_type": "code",
   "execution_count": null,
   "id": "65dde79b",
   "metadata": {},
   "outputs": [],
   "source": [
    "my_img = pims.open('tiff_series_part_counter/*.tif')\n",
    "my_img"
   ]
  },
  {
   "cell_type": "code",
   "execution_count": null,
   "id": "fdea80e8",
   "metadata": {},
   "outputs": [],
   "source": [
    "from stardist.models import StarDist2D, Config2D\n",
    "from stardist.data import test_image_nuclei_2d\n",
    "from stardist.plot import render_label\n",
    "from csbdeep.utils import normalize\n",
    "import matplotlib.pyplot as plt"
   ]
  },
  {
   "cell_type": "code",
   "execution_count": null,
   "id": "b33c5cda",
   "metadata": {
    "scrolled": true
   },
   "outputs": [],
   "source": [
    "model = StarDist2D.from_pretrained('2D_versatile_fluo')"
   ]
  },
  {
   "cell_type": "code",
   "execution_count": null,
   "id": "33c2698e",
   "metadata": {},
   "outputs": [],
   "source": [
    "plt.figure(figsize=(9, 6))\n",
    "plt.imshow(my_img[0], cmap='gray')\n",
    "plt.axis('off')"
   ]
  },
  {
   "cell_type": "code",
   "execution_count": null,
   "id": "aa1ae7f4",
   "metadata": {},
   "outputs": [],
   "source": [
    "@pims.pipeline\n",
    "def stardist_segm(img):\n",
    "    img_labels, img_details = model.predict_instances(normalize(img, 1.0, 99.8), prob_thresh=0.75, nms_thresh=0.75)\n",
    "    return img_labels"
   ]
  },
  {
   "cell_type": "code",
   "execution_count": null,
   "id": "4f446bed",
   "metadata": {},
   "outputs": [],
   "source": [
    "label_image = stardist_segm(my_img)"
   ]
  },
  {
   "cell_type": "code",
   "execution_count": null,
   "id": "8cdf2cac",
   "metadata": {},
   "outputs": [],
   "source": [
    "img_num = 30\n",
    "\n",
    "plt.subplot(1, 2, 1)\n",
    "plt.imshow(my_img[img_num], cmap='gray')\n",
    "plt.axis('off')\n",
    "plt.title('input image')\n",
    "\n",
    "plt.subplot(1, 2, 2)\n",
    "plt.imshow(render_label(label_image[img_num], img=my_img[img_num]))\n",
    "# plt.imshow(he_labels)\n",
    "plt.axis('off')\n",
    "plt.title('prediction + input overlay')"
   ]
  },
  {
   "cell_type": "code",
   "execution_count": null,
   "id": "16d148c7",
   "metadata": {},
   "outputs": [],
   "source": [
    "import skimage"
   ]
  },
  {
   "cell_type": "code",
   "execution_count": null,
   "id": "00053537",
   "metadata": {},
   "outputs": [],
   "source": [
    "%%time\n",
    "features = pd.DataFrame()\n",
    "\n",
    "for num, img in enumerate(my_img):\n",
    "    for region in skimage.measure.regionprops(label_image[num], intensity_image=img):\n",
    "        # store fuatures\n",
    "        dataset = pd.DataFrame({\n",
    "            'y': [region.centroid[0]],\n",
    "            'x': [region.centroid[1]],\n",
    "            'frame': [num],\n",
    "            'area': [region.area],\n",
    "            'brightness': [region.intensity_mean],\n",
    "        })\n",
    "        \n",
    "        features = pd.concat([features, dataset])"
   ]
  },
  {
   "cell_type": "code",
   "execution_count": null,
   "id": "04037046",
   "metadata": {},
   "outputs": [],
   "source": [
    "features.head"
   ]
  },
  {
   "cell_type": "code",
   "execution_count": null,
   "id": "29bdce3b",
   "metadata": {},
   "outputs": [],
   "source": [
    "features.to_csv('data_out/S6_part_counter.csv', index=False)"
   ]
  },
  {
   "cell_type": "code",
   "execution_count": null,
   "id": "ab3eb690",
   "metadata": {},
   "outputs": [],
   "source": [
    "# read 'features' from file \n",
    "features = pd.read_csv('data_out/S6_part_counter.csv')"
   ]
  },
  {
   "cell_type": "code",
   "execution_count": null,
   "id": "01de9901",
   "metadata": {},
   "outputs": [],
   "source": [
    "# create copy of features to make modifications\n",
    "features_modif = features.copy()"
   ]
  },
  {
   "cell_type": "code",
   "execution_count": null,
   "id": "0a3b624b",
   "metadata": {},
   "outputs": [],
   "source": [
    "tp.annotate(features_modif[features_modif.frame==(15)], my_img[15], plot_style={'markersize':2});"
   ]
  },
  {
   "cell_type": "code",
   "execution_count": null,
   "id": "9d4f44a3",
   "metadata": {},
   "outputs": [],
   "source": [
    "# plot object areas to investigate the distribution. You can further filter out objects based on size or intensity. Not\n",
    "\n",
    "# fig = px.histogram(features_modif['area'], nbins=20, template=\"simple_white\")\n",
    "\n",
    "# fig.show()"
   ]
  },
  {
   "cell_type": "code",
   "execution_count": null,
   "id": "2cff517e",
   "metadata": {},
   "outputs": [],
   "source": [
    "# filter out by area (make the histogram looks more or less normal distrubution)\n",
    "\n",
    "# features_modif = features_modif.loc[(features_modif['area'] > 40)]"
   ]
  },
  {
   "cell_type": "code",
   "execution_count": null,
   "id": "55c8b8e7",
   "metadata": {},
   "outputs": [],
   "source": [
    "# plot new histogram\n",
    "\n",
    "# fig = px.histogram(features_modif['area'], nbins=20, template=\"simple_white\")\n",
    "\n",
    "# fig.show()"
   ]
  },
  {
   "cell_type": "code",
   "execution_count": null,
   "id": "e775b340",
   "metadata": {},
   "outputs": [],
   "source": [
    "# plot the brightness (called as 'mass' in trackpy)\n",
    "\n",
    "fig = px.histogram(features_modif['brightness'], template=\"simple_white\")\n",
    "\n",
    "fig.show()"
   ]
  },
  {
   "cell_type": "code",
   "execution_count": null,
   "id": "2a6fd9ac",
   "metadata": {},
   "outputs": [],
   "source": [
    "# filter out by intensity, then give it the name feature as it was originally\n",
    "\n",
    "features_modif = features_modif.loc[(features_modif['brightness'] > 140)]"
   ]
  },
  {
   "cell_type": "code",
   "execution_count": null,
   "id": "0e02f6ff",
   "metadata": {},
   "outputs": [],
   "source": [
    "# plot the brightness (called as 'mass' in trackpy)\n",
    "\n",
    "fig = px.histogram(features_modif['brightness'], template=\"simple_white\")\n",
    "\n",
    "fig.show()"
   ]
  },
  {
   "cell_type": "code",
   "execution_count": null,
   "id": "f3842526",
   "metadata": {},
   "outputs": [],
   "source": [
    "tp.annotate(features_modif[features_modif.frame==(0)], my_img[0], plot_style={'markersize':7, 'marker':'x'})"
   ]
  },
  {
   "cell_type": "code",
   "execution_count": null,
   "id": "136f23ad",
   "metadata": {},
   "outputs": [],
   "source": [
    "NOPdf = pd.DataFrame(columns=['slice', 'count'])\n",
    "\n",
    "max_frame = features_modif.frame.iloc[-1]\n",
    "\n",
    "for fr in range(max_frame + 1):\n",
    "    mask = features_modif[features_modif.frame == fr]\n",
    "    number = mask.x.count()\n",
    "    \n",
    "    NOPdf.loc[len(NOPdf.index)] = [fr, number]\n",
    "\n",
    "NOPdf.head()"
   ]
  },
  {
   "cell_type": "code",
   "execution_count": null,
   "id": "c85c98ae",
   "metadata": {},
   "outputs": [],
   "source": [
    "# Save data to .dat file\n",
    "np.savetxt('../scripts/input_data/slice_count_S6.dat', NOPdf, header=\"slice count\", fmt='%d')"
   ]
  },
  {
   "cell_type": "code",
   "execution_count": null,
   "id": "f3398c78",
   "metadata": {},
   "outputs": [],
   "source": []
  }
 ],
 "metadata": {
  "kernelspec": {
   "display_name": "Python 3 (ipykernel)",
   "language": "python",
   "name": "python3"
  },
  "language_info": {
   "codemirror_mode": {
    "name": "ipython",
    "version": 3
   },
   "file_extension": ".py",
   "mimetype": "text/x-python",
   "name": "python",
   "nbconvert_exporter": "python",
   "pygments_lexer": "ipython3",
   "version": "3.11.5"
  }
 },
 "nbformat": 4,
 "nbformat_minor": 5
}
