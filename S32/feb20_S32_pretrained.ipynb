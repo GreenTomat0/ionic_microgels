version https://git-lfs.github.com/spec/v1
oid sha256:b6c9e404a975aa0c025a2e940aea3f70f8839c2a8fee8dbd824b8a765dd6999d
size 124214768
