{
 "cells": [
  {
   "cell_type": "code",
   "execution_count": null,
   "id": "e9523fb7",
   "metadata": {},
   "outputs": [],
   "source": [
    "# !pip install PIMS\n",
    "# !pip install trackpy\n",
    "# !pip install pandas==1.5.3\n",
    "# !pip install opencv-python\n",
    "# !pip install plotly"
   ]
  },
  {
   "cell_type": "code",
   "execution_count": null,
   "id": "df6b490c",
   "metadata": {},
   "outputs": [],
   "source": [
    "# change the following to %matplotlib notebook for interactive plotting\n",
    "%matplotlib inline\n",
    "\n",
    "import numpy as np\n",
    "import pandas as pd\n",
    "\n",
    "import pims\n",
    "import trackpy as tp\n",
    "import os\n",
    "\n",
    "import cv2\n",
    "\n",
    "import matplotlib  as mpl \n",
    "import matplotlib.pyplot as plt \n",
    "import plotly.express as px\n",
    "\n",
    "# Optionally, tweak styles.\n",
    "mpl.rc('figure',  figsize=(15, 12)) #(10, 6)\n",
    "mpl.rc('image', cmap='gray')"
   ]
  },
  {
   "cell_type": "code",
   "execution_count": null,
   "id": "ef297973",
   "metadata": {},
   "outputs": [],
   "source": [
    "# to read standard files, including tiff stacks, we can use pims.open\n",
    "my_img = pims.open('tiff_series_processed/*.tif')"
   ]
  },
  {
   "cell_type": "code",
   "execution_count": null,
   "id": "af2cf9de",
   "metadata": {},
   "outputs": [],
   "source": [
    "my_img"
   ]
  },
  {
   "cell_type": "code",
   "execution_count": null,
   "id": "a9178c91",
   "metadata": {},
   "outputs": [],
   "source": [
    "my_img.shape"
   ]
  },
  {
   "cell_type": "code",
   "execution_count": null,
   "id": "a5603b2d",
   "metadata": {},
   "outputs": [],
   "source": [
    "from stardist.models import StarDist2D, Config2D\n",
    "from stardist.data import test_image_nuclei_2d\n",
    "from stardist.plot import render_label\n",
    "from csbdeep.utils import normalize\n",
    "import matplotlib.pyplot as plt"
   ]
  },
  {
   "cell_type": "code",
   "execution_count": null,
   "id": "4869968d",
   "metadata": {},
   "outputs": [],
   "source": [
    "# prints a list of available models\n",
    "StarDist2D.from_pretrained()"
   ]
  },
  {
   "cell_type": "code",
   "execution_count": null,
   "id": "8d1141b9",
   "metadata": {},
   "outputs": [],
   "source": [
    "# define a pretrained model to segment nuclei in fluorescence images (download from pretrained)\n",
    "model = StarDist2D.from_pretrained('2D_versatile_fluo') # 2D_versatile_he"
   ]
  },
  {
   "cell_type": "code",
   "execution_count": null,
   "id": "8ec75d61",
   "metadata": {},
   "outputs": [],
   "source": [
    "plt.figure(figsize=(9, 6))\n",
    "plt.imshow(my_img[0], cmap='gray')\n",
    "plt.axis('off')"
   ]
  },
  {
   "cell_type": "code",
   "execution_count": null,
   "id": "60d7117c",
   "metadata": {},
   "outputs": [],
   "source": [
    "@pims.pipeline\n",
    "def stardist_segm(img):\n",
    "#     img = cv2.resize(img, None, fx = 2, fy = 2)\n",
    "    img_labels, img_details = model.predict_instances(normalize(img, 1.0, 99.8), prob_thresh=0.71, nms_thresh=0.8)\n",
    "    return img_labels"
   ]
  },
  {
   "cell_type": "code",
   "execution_count": null,
   "id": "77939af0",
   "metadata": {},
   "outputs": [],
   "source": [
    "label_image = stardist_segm(my_img)"
   ]
  },
  {
   "cell_type": "code",
   "execution_count": null,
   "id": "3d5563e8",
   "metadata": {},
   "outputs": [],
   "source": [
    "label_image"
   ]
  },
  {
   "cell_type": "code",
   "execution_count": null,
   "id": "790db831",
   "metadata": {},
   "outputs": [],
   "source": [
    "img_num = 9\n",
    "\n",
    "plt.subplot(1, 2, 1)\n",
    "plt.imshow(my_img[img_num], cmap='gray')\n",
    "plt.axis('off')\n",
    "plt.title('input image')\n",
    "\n",
    "plt.subplot(1, 2, 2)\n",
    "plt.imshow(render_label(label_image[img_num], img=my_img[img_num]))\n",
    "# plt.imshow(he_labels)\n",
    "plt.axis('off')\n",
    "plt.title('prediction + input overlay')"
   ]
  },
  {
   "cell_type": "code",
   "execution_count": null,
   "id": "4e09b343",
   "metadata": {},
   "outputs": [],
   "source": [
    "import skimage"
   ]
  },
  {
   "cell_type": "code",
   "execution_count": null,
   "id": "523f5043",
   "metadata": {},
   "outputs": [],
   "source": [
    "%%time\n",
    "features = pd.DataFrame()\n",
    "\n",
    "for num, img in enumerate(my_img):\n",
    "    for region in skimage.measure.regionprops(label_image[num], intensity_image=img):\n",
    "        # store fuatures\n",
    "        dataset = pd.DataFrame({\n",
    "            'y': [region.centroid[0]],\n",
    "            'x': [region.centroid[1]],\n",
    "            'frame': [num],\n",
    "            'area': [region.area],\n",
    "            'brightness': [region.intensity_mean],\n",
    "        })\n",
    "        \n",
    "        features = pd.concat([features, dataset])\n",
    "        \n",
    "#         features = features.append([{'y': region.centroid[0],\n",
    "#                                     'x': region.centroid[1],\n",
    "#                                     'frame': num,\n",
    "#                                     'area': region.area,\n",
    "#                                     },])"
   ]
  },
  {
   "cell_type": "code",
   "execution_count": null,
   "id": "af6475a9",
   "metadata": {},
   "outputs": [],
   "source": [
    "features.head"
   ]
  },
  {
   "cell_type": "code",
   "execution_count": null,
   "id": "1ba85cb9",
   "metadata": {},
   "outputs": [],
   "source": [
    "features.to_csv('data_out/feb20_S32.csv.zip', compression='gzip', index=False)"
   ]
  },
  {
   "cell_type": "code",
   "execution_count": null,
   "id": "0359e290",
   "metadata": {},
   "outputs": [],
   "source": [
    "# read 'features' from file \n",
    "\n",
    "# features = pd.read_csv('data_out/feb20_S32.csv.zip', compression='gzip')\n",
    "# features.head"
   ]
  },
  {
   "cell_type": "code",
   "execution_count": null,
   "id": "3fb4704b",
   "metadata": {},
   "outputs": [],
   "source": [
    "# create copy of features to make modifications\n",
    "features_modif = features.copy()"
   ]
  },
  {
   "cell_type": "code",
   "execution_count": null,
   "id": "bdaaa2c5",
   "metadata": {},
   "outputs": [],
   "source": [
    "tp.annotate(features_modif[features_modif.frame==(8)], my_img[8], plot_style={'markersize':2});\n"
   ]
  },
  {
   "cell_type": "code",
   "execution_count": null,
   "id": "92c67d0f",
   "metadata": {},
   "outputs": [],
   "source": [
    "# plot object areas to investigate the distribution. You can further filter out objects based on size or intensity. Not\n",
    "\n",
    "fig = px.histogram(features_modif['area'], nbins=20, template=\"simple_white\")\n",
    "\n",
    "fig.show()"
   ]
  },
  {
   "cell_type": "code",
   "execution_count": null,
   "id": "1dc4b7a8",
   "metadata": {},
   "outputs": [],
   "source": [
    "# filter out by area (make the histogram looks more or less normal distrubution)\n",
    "\n",
    "features_modif = features_modif.loc[(features_modif['area'] > 40) & (features_modif['area'] < 419)]"
   ]
  },
  {
   "cell_type": "code",
   "execution_count": null,
   "id": "cbd1da04",
   "metadata": {},
   "outputs": [],
   "source": [
    "# plot new histogram\n",
    "\n",
    "fig = px.histogram(features_modif['area'], nbins=20, template=\"simple_white\")\n",
    "\n",
    "fig.show()"
   ]
  },
  {
   "cell_type": "code",
   "execution_count": null,
   "id": "dd956a1b",
   "metadata": {},
   "outputs": [],
   "source": [
    "# plot the brightness (called as 'mass' in trackpy)\n",
    "\n",
    "fig = px.histogram(features_modif['brightness'], nbins=20, template=\"simple_white\")\n",
    "\n",
    "fig.show()"
   ]
  },
  {
   "cell_type": "code",
   "execution_count": null,
   "id": "20d0fda9",
   "metadata": {},
   "outputs": [],
   "source": [
    "# filter out by intensity, then give it the name feature as it was originally\n",
    "\n",
    "features_modif = features_modif.loc[(features_modif['brightness'] > 90)]"
   ]
  },
  {
   "cell_type": "code",
   "execution_count": null,
   "id": "3540d8ad",
   "metadata": {},
   "outputs": [],
   "source": [
    "# plot the brightness (called as 'mass' in trackpy)\n",
    "\n",
    "fig = px.histogram(features_modif['brightness'], nbins=20, template=\"simple_white\")\n",
    "\n",
    "fig.show()"
   ]
  },
  {
   "cell_type": "code",
   "execution_count": null,
   "id": "b09c488d",
   "metadata": {},
   "outputs": [],
   "source": [
    "tp.annotate(features_modif[features_modif.frame==(3)], my_img[3], plot_style={'markersize':2});"
   ]
  },
  {
   "cell_type": "code",
   "execution_count": null,
   "id": "0f62c7bc",
   "metadata": {},
   "outputs": [],
   "source": [
    "# Bubble tracking\n",
    "# we must specify a maximum displacement, the farthest an object can travel between frames (search_range)\n",
    "# We allow for the possibility that an object might be missed for a few frames and then\n",
    "# Memory keeps track of disappeared objects and maintains their ID for up to some number\n",
    "# Here we use 5 frames.\n",
    "# Note that the term particle refers to an object of interest.\n",
    "\n",
    "search_range = 10\n",
    "t = tp.link_df(features_modif, search_range, memory=5) # memory=5\n",
    "t.head"
   ]
  },
  {
   "cell_type": "code",
   "execution_count": null,
   "id": "d6d0dfd9",
   "metadata": {},
   "outputs": [],
   "source": [
    "img.shape"
   ]
  },
  {
   "cell_type": "code",
   "execution_count": null,
   "id": "bedaaab2",
   "metadata": {},
   "outputs": [],
   "source": [
    "(img.shape[1], img.shape[0])"
   ]
  },
  {
   "cell_type": "code",
   "execution_count": null,
   "id": "f265e814",
   "metadata": {},
   "outputs": [],
   "source": [
    "# plot trajectories\n",
    "\n",
    "overlay = img.copy()\n",
    "cv2.rectangle(overlay, (0, 0), (img.shape[1]-2, img.shape[0]), (255, 255, 255), -1)  # A filled rectangle\n",
    "alpha = 0.7  # Transparency factor.\n",
    "img_bkgr = cv2.addWeighted(overlay, alpha, img, 1-alpha, 0)\n",
    "\n",
    "tp.plot_traj(t, superimpose=img_bkgr, plot_style={'linewidth': 1.8}) # remove the superimpose part to just plot the trajectories"
   ]
  },
  {
   "cell_type": "code",
   "execution_count": null,
   "id": "d627c221",
   "metadata": {},
   "outputs": [],
   "source": [
    "# is there an overall drift? If so, we need to correct for it\n",
    "drift = tp.compute_drift(t)"
   ]
  },
  {
   "cell_type": "code",
   "execution_count": null,
   "id": "686fafb9",
   "metadata": {},
   "outputs": [],
   "source": [
    "drift.plot(figsize=(10, 6)) # if there is a horizontal line, there is no drift\n",
    "plt.show()"
   ]
  },
  {
   "cell_type": "code",
   "execution_count": null,
   "id": "f7b507e6",
   "metadata": {},
   "outputs": [],
   "source": [
    "# correct drift\n",
    "t_corrected = tp.subtract_drift(t.copy(), drift)"
   ]
  },
  {
   "cell_type": "code",
   "execution_count": null,
   "id": "68bf3752",
   "metadata": {},
   "outputs": [],
   "source": [
    "# plot drift plots one more to be sure it works well\n",
    "drift = tp.compute_drift(t_corrected)\n",
    "\n",
    "drift.plot(figsize=(10, 6)) # if there is a horizontal line, there is no drift\n",
    "plt.show()"
   ]
  },
  {
   "cell_type": "code",
   "execution_count": null,
   "id": "a6330385",
   "metadata": {},
   "outputs": [],
   "source": [
    "overlay = img.copy()\n",
    "cv2.rectangle(overlay, (0, 0), (img.shape[1]-2, img.shape[0]), (255, 255, 255), -1)  # A filled rectangle\n",
    "alpha = 0.7  # Transparency factor.\n",
    "img_bkgr = cv2.addWeighted(overlay, alpha, img, 1-alpha, 0)\n",
    "\n",
    "ax = tp.plot_traj(t_corrected, superimpose=img_bkgr, plot_style={'linewidth': 1.8})\n",
    "plt.show()"
   ]
  },
  {
   "cell_type": "code",
   "execution_count": null,
   "id": "19e24ee3",
   "metadata": {},
   "outputs": [],
   "source": [
    "t_corrected.to_csv('data_out/feb20_S32_t_corrected.csv', index=False)"
   ]
  },
  {
   "cell_type": "code",
   "execution_count": null,
   "id": "32285dd9",
   "metadata": {},
   "outputs": [],
   "source": [
    "# compute the mean squared displacement (MSD) of each particle using the imsd function, and plot MSD vs. lag time\n",
    "# im = tp.imsd(t_corrected, 0.11073, 62.2, max_lagtime=622) # microns per pixel = 0.3069 (from Nikon reader (footer of the main window)), frames per second = 1.0 (1 frame per about 1 sec)"
   ]
  },
  {
   "cell_type": "code",
   "execution_count": null,
   "id": "14f719eb",
   "metadata": {},
   "outputs": [],
   "source": [
    "# fig, ax = plt.subplots(figsize=(10, 6))\n",
    "# ax.plot(im.index, im, 'k-', alpha=0.1) # black lines, semitransparent\n",
    "# ax.set(ylabel=r'$\\langle \\Delta r^2 \\rangle$ [$\\mu$m$^2$]',\n",
    "#       xlabel='lag time $t$')\n",
    "# ax.set_xscale('log')\n",
    "# ax.set_yscale('log')"
   ]
  },
  {
   "cell_type": "code",
   "execution_count": null,
   "id": "c53f52b6",
   "metadata": {},
   "outputs": [],
   "source": [
    "# Ensemble Mean Squared Displacement\n",
    "\n",
    "# !!! This doesn't work for the latest pandas version (2.0.3). Downgrade version to 1.5.3 (pip install pandas==1.5.3)\n",
    "\n",
    "em = tp.emsd(t_corrected, 0.10358, 120., max_lagtime=6000) # 0.06905\n",
    "# em = tp.emsd(t_corrected, 0.11073, 62.2, max_lagtime=622)"
   ]
  },
  {
   "cell_type": "code",
   "execution_count": null,
   "id": "535cd4b8",
   "metadata": {},
   "outputs": [],
   "source": [
    "fig, ax = plt.subplots(figsize=(10, 6))\n",
    "# ax.plot(im.index, im, 'o', color='red')\n",
    "ax.plot(em.index, em, 'o')\n",
    "ax.set(ylabel=r'$\\langle \\Delta r^2 \\rangle$ [$\\mu$m$^2$]',\n",
    "      xlabel='lag time $t$')\n",
    "# ax.set_ylim(0.1, 100)\n",
    "ax.set_xscale('log')\n",
    "ax.set_yscale('log')"
   ]
  },
  {
   "cell_type": "code",
   "execution_count": null,
   "id": "290f13b9",
   "metadata": {},
   "outputs": [],
   "source": [
    "em.head"
   ]
  },
  {
   "cell_type": "code",
   "execution_count": null,
   "id": "6c8b122e",
   "metadata": {},
   "outputs": [],
   "source": [
    "# write MSD in file\n",
    "\n",
    "import csv\n",
    "\n",
    "with open('data_out/feb20_S32_EMSD.csv', 'w') as csvfile:\n",
    "    writer = csv.writer(csvfile)#, delimiter='\\t')\n",
    "    writer.writerow([\"lag time t\", \"dr^2\"])\n",
    "    writer.writerows(zip(em.index, em))"
   ]
  },
  {
   "cell_type": "code",
   "execution_count": null,
   "id": "b32a8dea",
   "metadata": {},
   "outputs": [],
   "source": [
    "# Fit this ensemble mean-squared displacement to a power law. Linear regression in log space\n",
    "\n",
    "# plt.figure(figsize=(10, 6))\n",
    "# plt.ylabel=(r'$\\langle \\Delta r^2 \\rangle$ [$\\mu$m$^2$]')\n",
    "# plt.xlabel=('lag time $t$')\n",
    "# tp.utils.fit_powerlaw(em) #performs linear best fit in log space, plots"
   ]
  },
  {
   "cell_type": "code",
   "execution_count": null,
   "id": "09a5ed44",
   "metadata": {},
   "outputs": [],
   "source": [
    "# test how dataframe 't_corrected' was written to file \n",
    "\n",
    "# f_corr = pd.read_csv('data_out/BE4-2D_4000frames/BE4-2D_t_corrected.csv')\n",
    "# f_corr.head"
   ]
  },
  {
   "cell_type": "code",
   "execution_count": null,
   "id": "0dbcf786",
   "metadata": {},
   "outputs": [],
   "source": [
    "# NOT corrected Ensemble Mean Squared Displacement\n",
    "\n",
    "# em_notcor = tp.emsd(t, 0.3069, 1.0, max_lagtime=4000)"
   ]
  },
  {
   "cell_type": "code",
   "execution_count": null,
   "id": "42360a86",
   "metadata": {},
   "outputs": [],
   "source": [
    "# fig, ax = plt.subplots(figsize=(10, 6))\n",
    "# ax.plot(em_notcor.index, em_notcor, 'o')\n",
    "# ax.set(ylabel=r'$\\langle \\Delta r^2 \\rangle$ [$\\mu$m$^2$]',\n",
    "#       xlabel='lag time $t$')\n",
    "# # ax.set_ylim(0.1, 100)\n",
    "# ax.set_xscale('log')\n",
    "# ax.set_yscale('log')"
   ]
  },
  {
   "cell_type": "code",
   "execution_count": null,
   "id": "60d18ee8",
   "metadata": {},
   "outputs": [],
   "source": []
  }
 ],
 "metadata": {
  "kernelspec": {
   "display_name": "Python 3 (ipykernel)",
   "language": "python",
   "name": "python3"
  },
  "language_info": {
   "codemirror_mode": {
    "name": "ipython",
    "version": 3
   },
   "file_extension": ".py",
   "mimetype": "text/x-python",
   "name": "python",
   "nbconvert_exporter": "python",
   "pygments_lexer": "ipython3",
   "version": "3.11.5"
  }
 },
 "nbformat": 4,
 "nbformat_minor": 5
}
