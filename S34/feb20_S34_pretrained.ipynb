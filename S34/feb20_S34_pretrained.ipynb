version https://git-lfs.github.com/spec/v1
oid sha256:b389a73cc8c58a2a37bc017bc80cc8fbc5f9f8e96f97971d9c60e4e8366d7741
size 124861466
