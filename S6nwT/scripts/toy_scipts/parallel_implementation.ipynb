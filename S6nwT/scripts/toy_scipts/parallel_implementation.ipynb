{
 "cells": [
  {
   "cell_type": "code",
   "execution_count": 2,
   "id": "dc828772",
   "metadata": {},
   "outputs": [
    {
     "name": "stdout",
     "output_type": "stream",
     "text": [
      "Number of ipyparallel engines: 8\n"
     ]
    },
    {
     "name": "stderr",
     "output_type": "stream",
     "text": [
      "/Users/miroshni/anaconda3/lib/python3.11/site-packages/ipyparallel/util.py:212: RuntimeWarning: IPython could not determine IPs for physmac047732: [Errno 8] nodename nor servname provided, or not known\n",
      "  warnings.warn(\n"
     ]
    },
    {
     "data": {
      "text/plain": [
       "<DirectView [0, 1, 2, 3,...]>"
      ]
     },
     "execution_count": 2,
     "metadata": {},
     "output_type": "execute_result"
    }
   ],
   "source": [
    "import ipyparallel as ipp\n",
    "# from ipyparallel.util import interactive\n",
    "# print(ipp.__version__)\n",
    "\n",
    "\n",
    "client = ipp.Client() #n=4\n",
    "\n",
    "print(\"Number of ipyparallel engines:\", len(client.ids))\n",
    "\n",
    "dview = client[:]\n",
    "dview"
   ]
  },
  {
   "cell_type": "code",
   "execution_count": 3,
   "id": "7b1c6763",
   "metadata": {},
   "outputs": [],
   "source": [
    "# dview.apply_sync(lambda : \"Hello, World\")"
   ]
  },
  {
   "cell_type": "code",
   "execution_count": 4,
   "id": "6cf9e5b8",
   "metadata": {},
   "outputs": [
    {
     "name": "stdout",
     "output_type": "stream",
     "text": [
      "4.29 µs ± 1.87 µs per loop (mean ± std. dev. of 7 runs, 1 loop each)\n"
     ]
    }
   ],
   "source": [
    "%%timeit -n 1\n",
    "serial_result = list(map(lambda x:x**2, range(30)))\n",
    "# serial_result"
   ]
  },
  {
   "cell_type": "code",
   "execution_count": 5,
   "id": "7e660a83",
   "metadata": {},
   "outputs": [
    {
     "name": "stdout",
     "output_type": "stream",
     "text": [
      "The slowest run took 6.08 times longer than the fastest. This could mean that an intermediate result is being cached.\n",
      "28.4 ms ± 27.7 ms per loop (mean ± std. dev. of 7 runs, 1 loop each)\n"
     ]
    }
   ],
   "source": [
    "%%timeit -n 1\n",
    "parallel_result = list(dview.map_sync(lambda x:x**2, range(30)))"
   ]
  },
  {
   "cell_type": "code",
   "execution_count": 9,
   "id": "c22abc2f",
   "metadata": {},
   "outputs": [],
   "source": [
    "import timeit"
   ]
  },
  {
   "cell_type": "code",
   "execution_count": 10,
   "id": "8e1a3e87",
   "metadata": {},
   "outputs": [],
   "source": [
    "def fibonacci(n):\n",
    "    nth_fibonacci = 1\n",
    "    for i in range(0, n):\n",
    "        nth_fibonacci+=i\n",
    "    return nth_fibonacci"
   ]
  },
  {
   "cell_type": "code",
   "execution_count": 11,
   "id": "f93429ea",
   "metadata": {},
   "outputs": [
    {
     "name": "stdout",
     "output_type": "stream",
     "text": [
      "172 µs ± 3.74 µs per loop (mean ± std. dev. of 7 runs, 10,000 loops each)\n"
     ]
    }
   ],
   "source": [
    "%timeit fibonacci(10000)"
   ]
  },
  {
   "cell_type": "code",
   "execution_count": 12,
   "id": "a63a1753",
   "metadata": {},
   "outputs": [
    {
     "name": "stdout",
     "output_type": "stream",
     "text": [
      "874 µs ± 314 µs per loop (mean ± std. dev. of 7 runs, 1,000 loops each)\n"
     ]
    }
   ],
   "source": [
    "%timeit dview.apply(fibonacci, 10000)"
   ]
  },
  {
   "cell_type": "code",
   "execution_count": null,
   "id": "dc9fa267",
   "metadata": {},
   "outputs": [],
   "source": []
  }
 ],
 "metadata": {
  "kernelspec": {
   "display_name": "Python 3 (ipykernel)",
   "language": "python",
   "name": "python3"
  },
  "language_info": {
   "codemirror_mode": {
    "name": "ipython",
    "version": 3
   },
   "file_extension": ".py",
   "mimetype": "text/x-python",
   "name": "python",
   "nbconvert_exporter": "python",
   "pygments_lexer": "ipython3",
   "version": "3.11.5"
  }
 },
 "nbformat": 4,
 "nbformat_minor": 5
}
