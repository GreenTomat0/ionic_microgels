{
 "cells": [
  {
   "cell_type": "code",
   "execution_count": 1,
   "id": "9e66bd0a-eb45-4ca7-bc2e-e7c60a4d5ee0",
   "metadata": {
    "tags": []
   },
   "outputs": [],
   "source": [
    "# %%bash\n",
    "# $ conda activate myenv\n",
    "# $ python3 -m ipykernel install --user --name myenv"
   ]
  },
  {
   "cell_type": "code",
   "execution_count": 1,
   "id": "ccdae149-5b8c-40f2-a7cb-234bf6ea15ca",
   "metadata": {
    "tags": []
   },
   "outputs": [],
   "source": [
    "import papermill as pm"
   ]
  },
  {
   "cell_type": "code",
   "execution_count": 3,
   "id": "42d33eed",
   "metadata": {},
   "outputs": [
    {
     "name": "stderr",
     "output_type": "stream",
     "text": [
      "Executing: 100%|████████████████████████████████| 4/4 [00:00<00:00,  4.47cell/s]\n"
     ]
    }
   ],
   "source": [
    "parameters = [{\n",
    "    \"msg\": [\"Huy\", \"Pizda\"]\n",
    "}\n",
    "    # , {\"msg\": \"Pizda\"}\n",
    "]\n",
    "\n",
    "for params in parameters:\n",
    "    pm.execute_notebook(\n",
    "        \"simple_input.ipynb\",\n",
    "        f\"output-notebook-{params['msg']}.ipynb\",\n",
    "        kernel_name=\"myenv\",  #\"my-analysis-env\",\n",
    "        parameters=params\n",
    "    )"
   ]
  },
  {
   "cell_type": "code",
   "execution_count": null,
   "id": "c51fe905-1346-428e-8719-fb3857153e4e",
   "metadata": {},
   "outputs": [],
   "source": []
  }
 ],
 "metadata": {
  "kernelspec": {
   "display_name": "myenv",
   "language": "python",
   "name": "myenv"
  },
  "language_info": {
   "codemirror_mode": {
    "name": "ipython",
    "version": 3
   },
   "file_extension": ".py",
   "mimetype": "text/x-python",
   "name": "python",
   "nbconvert_exporter": "python",
   "pygments_lexer": "ipython3",
   "version": "3.12.4"
  }
 },
 "nbformat": 4,
 "nbformat_minor": 5
}
