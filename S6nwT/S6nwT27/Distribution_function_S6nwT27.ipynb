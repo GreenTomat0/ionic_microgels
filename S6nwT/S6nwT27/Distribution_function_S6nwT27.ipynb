{
 "cells": [
  {
   "cell_type": "code",
   "execution_count": null,
   "id": "1d34085f-323e-4194-b2c6-da0466109745",
   "metadata": {},
   "outputs": [],
   "source": [
    "import numpy as np\n",
    "import math\n",
    "import matplotlib.pyplot as plt\n",
    "import pandas as pd\n",
    "import seaborn as sns\n",
    "from scipy.stats import norm\n",
    "from scipy import stats\n",
    "# %matplotlib inline"
   ]
  },
  {
   "cell_type": "code",
   "execution_count": null,
   "id": "d5d3e59a",
   "metadata": {},
   "outputs": [],
   "source": [
    "def displacements(frame0, frame_zv):\n",
    "    \n",
    "    dx = []\n",
    "    dy = []\n",
    "    dr = []\n",
    "#     dx2 = []\n",
    "    \n",
    "    for part in frame0['particle']:\n",
    "        \n",
    "        if (part in frame_zv['particle'].unique()):\n",
    "            mask0 = frame0['particle'] == part\n",
    "            x0 = frame0[mask0]['x'].item()\n",
    "            y0 = frame0[mask0]['y'].item()\n",
    "\n",
    "            mask_zv = frame_zv['particle'] == part\n",
    "            x_zv = frame_zv[mask_zv]['x'].item()\n",
    "            y_zv = frame_zv[mask_zv]['y'].item()\n",
    "\n",
    "            \n",
    "            dx_ = x_zv - x0\n",
    "            dy_ = y_zv - y0\n",
    "            dx.append( dx_ )\n",
    "            dy.append( dy_ )\n",
    "            \n",
    "            if dx_ < 0:\n",
    "                dr_ = - np.sqrt(dx_**2 + dy_**2)\n",
    "            else:\n",
    "                dr_ = np.sqrt(dx_**2 + dy_**2)\n",
    "            \n",
    "            dr.append( dr_ )\n",
    "\n",
    "#             dx2.append( dx**2 ) \n",
    "            \n",
    "#     dx2_mean = sum(dx2) / len(dx2)\n",
    "    \n",
    "    \n",
    "    return dx, dy, dr#, dx2_mean\n",
    "    "
   ]
  },
  {
   "cell_type": "code",
   "execution_count": null,
   "id": "d50c8d08",
   "metadata": {},
   "outputs": [],
   "source": [
    "# Gaussian approximation of MSD\n",
    "\n",
    "def Gauss_MSD(dx):\n",
    "    \n",
    "    sigma = np.mean( [x*x for x in dx] )\n",
    "    \n",
    "    G0 = np.zeros_like(dx)\n",
    "    \n",
    "    factor1 = 1 / (np.pi * sigma) #np.sqrt(1 / (2 * np.pi * sigma)) #\n",
    "    factor2 = sigma #2 * sigma #\n",
    "    \n",
    "    for i, dx_ in enumerate(dx):\n",
    "\n",
    "        G0[i] = factor1 * np.exp( -dx_**2 / factor2 )\n",
    "    \n",
    "    \n",
    "    return G0"
   ]
  },
  {
   "cell_type": "code",
   "execution_count": null,
   "id": "993176f5",
   "metadata": {},
   "outputs": [],
   "source": [
    "# file_name_prefix = '2_4000_6000'"
   ]
  },
  {
   "cell_type": "code",
   "execution_count": null,
   "id": "8e0acfa3",
   "metadata": {},
   "outputs": [],
   "source": [
    "def read_data():\n",
    "    \n",
    "    file_path = f'data_out/backup/S6T27_t_corrected.csv'\n",
    "    \n",
    "    usecols = ['y', 'x', 'frame', 'particle']\n",
    "    \n",
    "    data = pd.read_csv(file_path, usecols=usecols)\n",
    "    \n",
    "    \n",
    "    return data"
   ]
  },
  {
   "cell_type": "code",
   "execution_count": null,
   "id": "c4216c24",
   "metadata": {},
   "outputs": [],
   "source": [
    "%%time\n",
    "\n",
    "\n",
    "data = read_data()\n",
    "# print(data.head())\n",
    "data_frame0 = data[data['frame'] == 0]\n",
    "max_frame = data['frame'].values[-1] + 1\n",
    "frame_zv = 100 # t*\n",
    "\n",
    "\n",
    "\n",
    "f0 = data[data['frame'] == 0]\n",
    "f_zv = data[data['frame'] == frame_zv]\n",
    "\n",
    "\n",
    "dx, dy, dr = displacements(f0, f_zv)\n",
    "\n",
    "\n",
    "# dx_cont = np.linspace(min(dx), max(dx), 1000)\n",
    "norm = Gauss_MSD(dr)\n",
    "\n",
    "\n",
    "# dr = np.arange(-10, 10, 0.0001)\n",
    "# dr = r[1] - r[0]\n"
   ]
  },
  {
   "cell_type": "code",
   "execution_count": null,
   "id": "dac3df14",
   "metadata": {
    "scrolled": false
   },
   "outputs": [],
   "source": [
    "%matplotlib inline\n",
    "\n",
    "fig, ax = plt.subplots(figsize=(10, 6))\n",
    "\n",
    "# plt.hist(dr, bins=50, density=True, alpha=0.6, color='g')\n",
    "plt.hist(dr, bins=50, density=True, alpha=0.6, color='g')\n",
    "# plt.hist(dy, bins=50, density=True, alpha=0.6, color='g')\n",
    "\n",
    "sns.kdeplot(data=dr, lw=5, bw_adjust=2)#, cut=0)\n",
    "\n",
    "plt.plot(dx, norm, c='red')\n",
    "\n",
    "# ax.plot(dx, norm.pdf(dx),'r-', lw=5, alpha=0.6, label='norm pdf')\n",
    "\n",
    "\n",
    "ax.set(ylabel=r'$P(\\Delta x)$',\n",
    "      xlabel=r'$\\Delta x$')\n",
    "\n",
    "# plt.yscale('log')\n",
    "\n",
    "# plt.legend (fontsize=14)"
   ]
  },
  {
   "cell_type": "code",
   "execution_count": null,
   "id": "9c874c22",
   "metadata": {},
   "outputs": [],
   "source": [
    "# # write to file\n",
    "# DIR = f'data_out/backup_{file_name_prefix}/'\n",
    "\n",
    "# file_PD = DIR + f'Probability_distribution_{file_name_prefix}.dat'\n",
    "\n",
    "# data_out_dict = {\"time[sec]\": time, \"mu[micron]\": mu_micron}\n",
    "\n",
    "# data_out = pd.DataFrame(data_out_dict)\n",
    "\n",
    "# data_out.to_csv(file_PD, index=False)"
   ]
  },
  {
   "cell_type": "code",
   "execution_count": null,
   "id": "061d4a0d",
   "metadata": {},
   "outputs": [],
   "source": [
    "# # write to file\n",
    "# DIR = f'data_out/backup_{file_name_prefix}/'\n",
    "\n",
    "# file_Gs = DIR + f'G_s_{file_name_prefix}.dat'\n",
    "\n",
    "# data_out_dict = {\"r[px]\": r, \"G_s\": G_s}\n",
    "\n",
    "# data_out = pd.DataFrame(data_out_dict)\n",
    "\n",
    "# data_out.to_csv(file_Gs, index=False)"
   ]
  },
  {
   "cell_type": "code",
   "execution_count": null,
   "id": "1482b6f1",
   "metadata": {},
   "outputs": [],
   "source": [
    "# # convert to microns\n",
    "\n",
    "# px_to_micron = 0.06905\n",
    "\n",
    "# r_micron = [i * px_to_micron for i in r]"
   ]
  },
  {
   "cell_type": "code",
   "execution_count": null,
   "id": "d7b0efd9",
   "metadata": {},
   "outputs": [],
   "source": [
    "# G0 = Gauss_MSD(dpart, r)\n",
    "# print(G0)"
   ]
  },
  {
   "cell_type": "code",
   "execution_count": null,
   "id": "76858b38",
   "metadata": {},
   "outputs": [],
   "source": [
    "# Gs_mult = np.zeros_like(r)\n",
    "# G0_mult = np.zeros_like(r)\n",
    "\n",
    "# for i, r_val in enumerate(r_micron):\n",
    "    \n",
    "#     mult_s = 4*np.pi*r_val**2 #2*np.pi*r_val**2\n",
    "#     mult_0 = 4*np.pi*r_val**2 #2*np.pi*r_val**2 #2 * np.pi * r_val**2 #4. * np.pi*r_val*r_val\n",
    "    \n",
    "#     Gs_mult[i] = mult_s * Gs[i]\n",
    "#     G0_mult[i] = mult_0 * G0[i]\n",
    "    \n",
    "# print(Gs_mult)"
   ]
  },
  {
   "cell_type": "code",
   "execution_count": null,
   "id": "feecb809",
   "metadata": {},
   "outputs": [],
   "source": [
    "# fig, ax = plt.subplots(figsize=(10, 6))\n",
    "\n",
    "# plt.plot(r_micron, Gs_mult, label=r'$4\\pi r^2 G_s(r, t)$')\n",
    "# plt.plot(r_micron, G0_mult, label=r'$4\\pi r^2 G_0(r, t)$')\n",
    "\n",
    "# ax.set(ylabel=r'$G_0, G_s$',\n",
    "#       xlabel='r')\n",
    "# # ax.set_xscale('log')\n",
    "# # ax.set_yscale('log')\n",
    "# plt.legend (fontsize=14)"
   ]
  },
  {
   "cell_type": "code",
   "execution_count": null,
   "id": "cd80cb6a",
   "metadata": {},
   "outputs": [],
   "source": []
  },
  {
   "cell_type": "code",
   "execution_count": null,
   "id": "19d0a46f",
   "metadata": {},
   "outputs": [],
   "source": []
  }
 ],
 "metadata": {
  "celltoolbar": "Edit Metadata",
  "kernelspec": {
   "display_name": "Python 3 (ipykernel)",
   "language": "python",
   "name": "python3"
  },
  "language_info": {
   "codemirror_mode": {
    "name": "ipython",
    "version": 3
   },
   "file_extension": ".py",
   "mimetype": "text/x-python",
   "name": "python",
   "nbconvert_exporter": "python",
   "pygments_lexer": "ipython3",
   "version": "3.11.5"
  }
 },
 "nbformat": 4,
 "nbformat_minor": 5
}
