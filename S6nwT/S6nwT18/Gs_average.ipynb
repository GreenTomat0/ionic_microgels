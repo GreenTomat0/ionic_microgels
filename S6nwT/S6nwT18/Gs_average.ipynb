{
 "cells": [
  {
   "cell_type": "code",
   "execution_count": null,
   "id": "08b96e41",
   "metadata": {},
   "outputs": [],
   "source": [
    "import numpy as np\n",
    "import math\n",
    "# import pandas as pd\n",
    "import matplotlib.pyplot as plt\n",
    "# import csv\n",
    "# import os\n",
    "%matplotlib inline"
   ]
  },
  {
   "cell_type": "code",
   "execution_count": null,
   "id": "ba7340ad",
   "metadata": {},
   "outputs": [],
   "source": [
    "# def read_file(var0, column_number, file_path):\n",
    "    \n",
    "#     var = var0\n",
    "    \n",
    "#     with open(file_path) as f:\n",
    "#         next(f)\n",
    "#         for rows in f:\n",
    "#             var.append( float(rows.split(',')[column_number]) )\n",
    "            \n",
    "            \n",
    "#     return var"
   ]
  },
  {
   "cell_type": "code",
   "execution_count": null,
   "id": "5bb4e015",
   "metadata": {},
   "outputs": [],
   "source": [
    "# read from file Gs\n",
    "\n",
    "def read_files(file_root, file_names):\n",
    "\n",
    "    G = [0] * len(file_names)\n",
    "    r = []\n",
    "\n",
    "    for i, fn in enumerate(file_names):\n",
    "\n",
    "        file_path = file_root + f'{fn}.dat'\n",
    "\n",
    "        G[i] = []\n",
    "        with open(file_path) as f:\n",
    "            next(f)\n",
    "            for rows in f:\n",
    "                G[i].append( float(rows.split(',')[1]) )\n",
    "                \n",
    "                if i == 0:\n",
    "                    r.append( float(rows.split(',')[0]) )\n",
    "        \n",
    "    \n",
    "    return r, G"
   ]
  },
  {
   "cell_type": "code",
   "execution_count": null,
   "id": "7f24c9b9",
   "metadata": {},
   "outputs": [],
   "source": [
    "file_root_Gs = f'data_out/Gs/'\n",
    "file_root_G0 = f'data_out/G0/'\n",
    "\n",
    "file_names = [\n",
    "    '50', '100', '300', '500',\n",
    "    '1000', '1500', '2000', '2500',\n",
    "    '3000', '3500', '4000', '4500',\n",
    "    '5000', '5500'\n",
    "]\n",
    "\n",
    "# print(len(Gs))\n",
    "# print(len(Gs[0]))\n",
    "# print(len(r))"
   ]
  },
  {
   "cell_type": "code",
   "execution_count": null,
   "id": "8bdd9ac2",
   "metadata": {},
   "outputs": [],
   "source": [
    "def multiplier_Gs(r, G):\n",
    "    \n",
    "    I = len(G)\n",
    "\n",
    "    G_mult = np.zeros_like(G)\n",
    "\n",
    "    for i in range( I ):\n",
    "\n",
    "        G_mult[i] = 4. * np.pi * r[i] * r[i] * G[i]\n",
    "            \n",
    "            \n",
    "    return G_mult"
   ]
  },
  {
   "cell_type": "code",
   "execution_count": null,
   "id": "c4df11a8",
   "metadata": {},
   "outputs": [],
   "source": [
    "def multiplier_G0(r, G):\n",
    "    \n",
    "    I = len(G)\n",
    "\n",
    "    G_mult = np.zeros_like(G)\n",
    "\n",
    "    for i in range( I ):\n",
    "\n",
    "        G_mult[i] = 4. * np.pi * r[i] * r[i] * G[i]\n",
    "            \n",
    "            \n",
    "    return G_mult"
   ]
  },
  {
   "cell_type": "code",
   "execution_count": null,
   "id": "eb5d687e",
   "metadata": {},
   "outputs": [],
   "source": [
    "def average(r, G):\n",
    "    \n",
    "    G_mult_aver = np.zeros_like(r)\n",
    "    J = len(G[0])\n",
    "\n",
    "    transposed_G = zip(*G)\n",
    "    G_aver = [sum(col) / len(col) for col in transposed_G]\n",
    "\n",
    "    \n",
    "    return G_aver"
   ]
  },
  {
   "cell_type": "code",
   "execution_count": null,
   "id": "f27accbd",
   "metadata": {},
   "outputs": [],
   "source": [
    "def microns_r(r, px_to_micron):\n",
    "    \n",
    "    r_micron = [i * px_to_micron for i in r]\n",
    "    \n",
    "    \n",
    "    return r_micron"
   ]
  },
  {
   "cell_type": "code",
   "execution_count": null,
   "id": "07029a6e",
   "metadata": {},
   "outputs": [],
   "source": [
    "def microns_G0(G0, px_to_micron):\n",
    "    \n",
    "    G0_micron = [i * (px_to_micron * px_to_micron) for i in G0]\n",
    "    \n",
    "    \n",
    "    return G0_micron"
   ]
  },
  {
   "cell_type": "code",
   "execution_count": null,
   "id": "c923b3bd",
   "metadata": {},
   "outputs": [],
   "source": [
    "def microns_Gs(Gs, px_to_micron):\n",
    "    \n",
    "    Gs_micron = [i * (px_to_micron * px_to_micron) for i in Gs]\n",
    "    \n",
    "    \n",
    "    return Gs_micron"
   ]
  },
  {
   "cell_type": "code",
   "execution_count": null,
   "id": "d5375682",
   "metadata": {},
   "outputs": [],
   "source": [
    "# read files:\n",
    "\n",
    "r, Gs = read_files(file_root_Gs, file_names)\n",
    "r, G0 = read_files(file_root_G0, file_names)\n",
    "\n",
    "\n",
    "# take an average:\n",
    "\n",
    "Gs_aver = average(r, Gs)\n",
    "G0_aver = average(r, G0)\n",
    "\n",
    "\n",
    "# multiply by 4 * pi * r**2:\n",
    "\n",
    "Gs_mult = multiplier_Gs(r, Gs_aver)\n",
    "G0_mult = multiplier_G0(r, G0_aver)\n",
    "\n",
    "\n",
    "# convert to miocrons:\n",
    "\n",
    "px_to_micron = 0.06905\n",
    "r_micron = microns_r(r, px_to_micron)\n",
    "Gs_mult_micron = microns_Gs(Gs_mult, px_to_micron)\n",
    "G0_mult_micron = microns_G0(G0_mult, px_to_micron)\n"
   ]
  },
  {
   "cell_type": "code",
   "execution_count": null,
   "id": "8048db73",
   "metadata": {},
   "outputs": [],
   "source": [
    "fig, ax = plt.subplots(figsize=(10, 6))\n",
    "\n",
    "\n",
    "# for i, fn in enumerate(file_names):\n",
    "#     ax.plot(r, Gs_mult_sep[i], label=f'{fn}')\n",
    "    \n",
    "ax.plot(r_micron, Gs_mult_micron, ls='-', label='Average Gs')\n",
    "# ax.plot(r_micron, G0_aver, ls='-', label='Average G0')\n",
    "    \n",
    "# ax.set_xscale('log')\n",
    "# ax.set_yscale('log')\n",
    "\n",
    "ax.set(xlabel='r',\n",
    "       ylabel=r'$G_s$')\n",
    "plt.legend (fontsize=14)"
   ]
  },
  {
   "cell_type": "code",
   "execution_count": null,
   "id": "fdc6df1b",
   "metadata": {},
   "outputs": [],
   "source": [
    "summa_G = sum(G0_aver)\n",
    "print(summa_G)"
   ]
  },
  {
   "cell_type": "code",
   "execution_count": null,
   "id": "beb10260",
   "metadata": {},
   "outputs": [],
   "source": [
    "# # convert to microns\n",
    "# px_to_micron = 0.06905\n",
    "# r_micron = [i*px_to_micron for i in r]\n",
    "# Gs_mult_aver_micron = [i*px_to_micron*px_to_micron for i in Gs_mult_aver]"
   ]
  },
  {
   "cell_type": "code",
   "execution_count": null,
   "id": "a7d81769",
   "metadata": {},
   "outputs": [],
   "source": [
    "# fig, ax = plt.subplots(figsize=(10, 6))\n",
    "\n",
    "\n",
    "# ax.plot(r_micron, Gs_mult_aver_micron, ls='-', marker='*', label='Average')\n",
    "    \n",
    "\n",
    "# ax.set(xlabel='r',\n",
    "#        ylabel=r'$G_s$')\n",
    "# plt.legend (fontsize=14)"
   ]
  }
 ],
 "metadata": {
  "kernelspec": {
   "display_name": "Python 3 (ipykernel)",
   "language": "python",
   "name": "python3"
  },
  "language_info": {
   "codemirror_mode": {
    "name": "ipython",
    "version": 3
   },
   "file_extension": ".py",
   "mimetype": "text/x-python",
   "name": "python",
   "nbconvert_exporter": "python",
   "pygments_lexer": "ipython3",
   "version": "3.11.5"
  }
 },
 "nbformat": 4,
 "nbformat_minor": 5
}
