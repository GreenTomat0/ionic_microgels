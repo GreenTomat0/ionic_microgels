{
 "cells": [
  {
   "cell_type": "code",
   "execution_count": 1,
   "id": "1d34085f-323e-4194-b2c6-da0466109745",
   "metadata": {},
   "outputs": [],
   "source": [
    "import numpy as np\n",
    "import math\n",
    "import matplotlib.pyplot as plt\n",
    "import pandas as pd\n",
    "%matplotlib inline"
   ]
  },
  {
   "cell_type": "markdown",
   "id": "dd77bef5",
   "metadata": {},
   "source": [
    "Calculate the self part of the Van Hove correlation function $G_s (r, t)$ at time 0 and $t^*$:\n",
    "$$\n",
    "  G_s (r, t_*) =  \\frac{1}{N} \\sum_{i=1}^{N} \\delta [r - |r_i (t_*) - r_i (0)|] \n",
    "$$"
   ]
  },
  {
   "cell_type": "code",
   "execution_count": 2,
   "id": "d5d3e59a",
   "metadata": {},
   "outputs": [],
   "source": [
    "def dpart_func(frame0, frame_zv):\n",
    "    \n",
    "    dpart = []\n",
    "    \n",
    "    for part in frame0['particle']:\n",
    "        \n",
    "        if (part in frame_zv['particle'].unique()):\n",
    "            mask0 = frame0['particle'] == part\n",
    "            x0 = frame0[mask0]['x'].item()\n",
    "            y0 = frame0[mask0]['y'].item()\n",
    "\n",
    "            mask_zv = frame_zv['particle'] == part\n",
    "            x_zv = frame_zv[mask_zv]['x'].item()\n",
    "            y_zv = frame_zv[mask_zv]['y'].item()\n",
    "\n",
    "            dpart.append( abs(np.sqrt(x_zv*x_zv + y_zv*y_zv) - np.sqrt(x0*x0 + y0*y0)) )\n",
    "    \n",
    "    \n",
    "    return dpart\n",
    "    "
   ]
  },
  {
   "cell_type": "code",
   "execution_count": 3,
   "id": "f80a1df5",
   "metadata": {},
   "outputs": [],
   "source": [
    "# def Gs_func(dpart, bins, r_max):    \n",
    "\n",
    "#     # Histogram the radial distances\n",
    "#     r_values, bin_edges = np.histogram(dpart, bins=bins, range=(0, r_max), density=True)\n",
    "    \n",
    "#     # Calculate the midpoints of the bins\n",
    "#     r_values_mid = 0.5 * (bin_edges[1:] + bin_edges[:-1])\n",
    "    \n",
    "    \n",
    "#     return r_values_mid, r_values"
   ]
  },
  {
   "cell_type": "code",
   "execution_count": 4,
   "id": "806af436",
   "metadata": {},
   "outputs": [],
   "source": [
    "def Gs_mult_func(r_values, gs_values):\n",
    "    \n",
    "    \n",
    "    return 4 * np.pi * r_values**2 * gs_values"
   ]
  },
  {
   "cell_type": "code",
   "execution_count": 5,
   "id": "e88e2f82",
   "metadata": {},
   "outputs": [],
   "source": [
    "def aver_func(dpart, r, dr):\n",
    "    \n",
    "    G_s = np.zeros_like(r)\n",
    "    \n",
    "    N = len(dpart)\n",
    "    \n",
    "    for i, r_val in enumerate(r):\n",
    "        \n",
    "        count = np.sum((dpart >= r_val) & (dpart < r_val + dr))\n",
    "\n",
    "        G_s[i] = count / N \n",
    "    \n",
    "    return G_s"
   ]
  },
  {
   "cell_type": "code",
   "execution_count": 6,
   "id": "993176f5",
   "metadata": {},
   "outputs": [],
   "source": [
    "# file_name_prefix = '2_4000_6000'"
   ]
  },
  {
   "cell_type": "code",
   "execution_count": 7,
   "id": "8e0acfa3",
   "metadata": {},
   "outputs": [],
   "source": [
    "def read_data():\n",
    "    \n",
    "    file_path = f'data_out/backup/S6T18_t_corrected.csv'\n",
    "    \n",
    "    usecols = ['y', 'x', 'frame', 'particle']\n",
    "    \n",
    "    data = pd.read_csv(file_path, usecols=usecols)\n",
    "    \n",
    "    \n",
    "    return data"
   ]
  },
  {
   "cell_type": "code",
   "execution_count": 8,
   "id": "c4216c24",
   "metadata": {},
   "outputs": [
    {
     "name": "stdout",
     "output_type": "stream",
     "text": [
      "CPU times: user 2.54 s, sys: 26.1 ms, total: 2.56 s\n",
      "Wall time: 2.58 s\n"
     ]
    }
   ],
   "source": [
    "%%time\n",
    "\n",
    "\n",
    "data = read_data()\n",
    "# print(data.head())\n",
    "data_frame0 = data[data['frame'] == 0]\n",
    "max_frame = data['frame'].values[-1] + 1\n",
    "frame_zv = 5500 # t*\n",
    "\n",
    "\n",
    "r = np.arange(0, 30, 0.0001)\n",
    "dr = r[1] - r[0]\n",
    "\n",
    "\n",
    "f0 = data[data['frame'] == 0]\n",
    "f_zv = data[data['frame'] == frame_zv]\n",
    "\n",
    "\n",
    "dpart = dpart_func(f0, f_zv)\n",
    "Gs = aver_func(dpart, r, dr)\n",
    "Gs_mult = Gs_mult_func(r, Gs)\n",
    "\n",
    "# r_max = 30\n",
    "# bins = 300000\n",
    "\n",
    "# dpart = dpart_func(f0, f_zv)\n",
    "# # Calculate Gs(r, t)\n",
    "# r, Gs = Gs_func(dpart, bins, r_max)\n",
    "\n",
    "# # Calculate 4 * pi * r^2 * Gs(r, t)\n",
    "# Gs_mult = Gs_mult_func(r, Gs)\n"
   ]
  },
  {
   "cell_type": "code",
   "execution_count": 9,
   "id": "dac3df14",
   "metadata": {
    "scrolled": true
   },
   "outputs": [
    {
     "data": {
      "text/plain": [
       "<matplotlib.legend.Legend at 0x127d1ac10>"
      ]
     },
     "execution_count": 9,
     "metadata": {},
     "output_type": "execute_result"
    },
    {
     "data": {
      "image/png": "[encoded data removed]",
      "text/plain": [
       "<Figure size 1000x600 with 1 Axes>"
      ]
     },
     "metadata": {},
     "output_type": "display_data"
    }
   ],
   "source": [
    "fig, ax = plt.subplots(figsize=(10, 6))\n",
    "\n",
    "plt.plot(r, Gs_mult, label=r'$4\\pi r^2 G_s(r, t)$')\n",
    "\n",
    "ax.set(ylabel=r'$G_s$',\n",
    "      xlabel='r')\n",
    "\n",
    "plt.legend (fontsize=14)"
   ]
  },
  {
   "cell_type": "code",
   "execution_count": 10,
   "id": "061d4a0d",
   "metadata": {},
   "outputs": [],
   "source": [
    "# # write to file Gs\n",
    "# DIR = f'data_out/Gs/'\n",
    "\n",
    "# file_Gs = DIR + f'{frame_zv}.dat'\n",
    "\n",
    "# data_out_dict = {\"r[px]\": r, \"Gs\": Gs}\n",
    "\n",
    "# data_out = pd.DataFrame(data_out_dict)\n",
    "\n",
    "# data_out.to_csv(file_Gs, index=False)"
   ]
  },
  {
   "cell_type": "code",
   "execution_count": 11,
   "id": "05c73ff3",
   "metadata": {},
   "outputs": [],
   "source": [
    "# Gaussian approximation of MSD\n",
    "\n",
    "def Gauss_MSD(dpart, r):\n",
    "    \n",
    "    delta_r = np.mean( [x*x for x in dpart] )\n",
    "    \n",
    "    G0 = np.zeros_like(r)\n",
    "    \n",
    "    for i, r_val in enumerate(r):\n",
    "\n",
    "        G0[i] = (1./(np.pi*delta_r)) * np.exp( -r_val**2 / delta_r )\n",
    "    \n",
    "    \n",
    "    return G0"
   ]
  },
  {
   "cell_type": "code",
   "execution_count": 12,
   "id": "1482b6f1",
   "metadata": {},
   "outputs": [],
   "source": [
    "# # convert to microns\n",
    "\n",
    "# px_to_micron = 0.06905\n",
    "\n",
    "# r_micron = [i * px_to_micron for i in r]"
   ]
  },
  {
   "cell_type": "code",
   "execution_count": 13,
   "id": "d7b0efd9",
   "metadata": {},
   "outputs": [
    {
     "name": "stdout",
     "output_type": "stream",
     "text": [
      "[1.02564037e-001 1.02564036e-001 1.02564035e-001 ... 1.17804591e-127\n",
      " 1.17577063e-127 1.17349973e-127]\n"
     ]
    }
   ],
   "source": [
    "G0 = Gauss_MSD(dpart, r)\n",
    "print(G0)"
   ]
  },
  {
   "cell_type": "code",
   "execution_count": 14,
   "id": "76858b38",
   "metadata": {},
   "outputs": [],
   "source": [
    "# Gs_mult = np.zeros_like(r)\n",
    "# G0_mult = np.zeros_like(r)\n",
    "\n",
    "# for i, r_val in enumerate(r_micron):\n",
    "    \n",
    "#     mult_s = 4*np.pi*r_val**2 #2*np.pi*r_val**2\n",
    "#     mult_0 = 4*np.pi*r_val**2 #2*np.pi*r_val**2 #2 * np.pi * r_val**2 #4. * np.pi*r_val*r_val\n",
    "    \n",
    "#     Gs_mult[i] = mult_s * Gs[i]\n",
    "#     G0_mult[i] = mult_0 * G0[i]\n",
    "    \n",
    "# print(Gs_mult)"
   ]
  },
  {
   "cell_type": "code",
   "execution_count": 15,
   "id": "feecb809",
   "metadata": {},
   "outputs": [
    {
     "data": {
      "text/plain": [
       "<matplotlib.legend.Legend at 0x153a6cf10>"
      ]
     },
     "execution_count": 15,
     "metadata": {},
     "output_type": "execute_result"
    },
    {
     "data": {
      "image/png": "[encoded data removed]",
      "text/plain": [
       "<Figure size 1000x600 with 1 Axes>"
      ]
     },
     "metadata": {},
     "output_type": "display_data"
    }
   ],
   "source": [
    "fig, ax = plt.subplots(figsize=(10, 6))\n",
    "\n",
    "# plt.plot(r_micron, Gs_mult, label=r'$4\\pi r^2 G_s(r, t)$')\n",
    "plt.plot(r, G0, label=r'$4\\pi r^2 G_0(r, t)$')\n",
    "\n",
    "ax.set(ylabel=r'$G_0, G_s$',\n",
    "      xlabel='r')\n",
    "# ax.set_xscale('log')\n",
    "# ax.set_yscale('log')\n",
    "plt.legend (fontsize=14)"
   ]
  },
  {
   "cell_type": "code",
   "execution_count": 16,
   "id": "cd80cb6a",
   "metadata": {},
   "outputs": [],
   "source": [
    "# write to file G0\n",
    "\n",
    "DIR = f'data_out/G0/'\n",
    "\n",
    "file_Gs = DIR + f'{frame_zv}.dat'\n",
    "\n",
    "data_out_dict = {\"r[px]\": r, \"G0[1/px^2]\": G0}\n",
    "\n",
    "data_out = pd.DataFrame(data_out_dict)\n",
    "\n",
    "data_out.to_csv(file_Gs, index=False)"
   ]
  },
  {
   "cell_type": "code",
   "execution_count": null,
   "id": "19d0a46f",
   "metadata": {},
   "outputs": [],
   "source": []
  },
  {
   "cell_type": "code",
   "execution_count": null,
   "id": "0a2f49ef",
   "metadata": {},
   "outputs": [],
   "source": []
  }
 ],
 "metadata": {
  "kernelspec": {
   "display_name": "Python 3 (ipykernel)",
   "language": "python",
   "name": "python3"
  },
  "language_info": {
   "codemirror_mode": {
    "name": "ipython",
    "version": 3
   },
   "file_extension": ".py",
   "mimetype": "text/x-python",
   "name": "python",
   "nbconvert_exporter": "python",
   "pygments_lexer": "ipython3",
   "version": "3.11.5"
  }
 },
 "nbformat": 4,
 "nbformat_minor": 5
}
