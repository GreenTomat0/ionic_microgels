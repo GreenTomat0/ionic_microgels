{
 "cells": [
  {
   "cell_type": "code",
   "execution_count": null,
   "id": "707f79ea",
   "metadata": {},
   "outputs": [],
   "source": [
    "import numpy as np\n",
    "import math\n",
    "import pandas as pd\n",
    "import matplotlib.pyplot as plt\n",
    "import csv\n",
    "import os\n",
    "# from scipy import stats"
   ]
  },
  {
   "cell_type": "code",
   "execution_count": null,
   "id": "4f8c6e38",
   "metadata": {},
   "outputs": [],
   "source": [
    "def Density_1frame(frame_cur):\n",
    "\n",
    "    \n",
    "    return frame_cur.particle.count()"
   ]
  },
  {
   "cell_type": "code",
   "execution_count": null,
   "id": "8e0acfa3",
   "metadata": {},
   "outputs": [],
   "source": [
    "def read_data():\n",
    "    \n",
    "    file_path = 'data_out/backup/S6T34to18_t_corrected.csv'\n",
    "    \n",
    "    usecols = ['y', 'x', 'frame', 'particle']\n",
    "    \n",
    "    data = pd.read_csv(file_path, usecols=usecols)\n",
    "    \n",
    "    \n",
    "    return data"
   ]
  },
  {
   "cell_type": "code",
   "execution_count": null,
   "id": "c4216c24",
   "metadata": {},
   "outputs": [],
   "source": [
    "%%time\n",
    "\n",
    "\n",
    "\n",
    "data = read_data()\n",
    "max_frame = data['frame'].values[-1] + 1\n",
    "\n",
    "print(max_frame)\n",
    "\n",
    "Npart  = [] # number of particles in each frame\n",
    "frames = [] # frame number\n",
    "\n",
    "for fr in range(max_frame):\n",
    "    \n",
    "    frame_cur = data[data.frame == fr]\n",
    "    Npart.append( Density_1frame(frame_cur) )\n",
    "    frames.append( fr )\n",
    "    \n",
    "    print(f'fr = {fr}:  Npart = {Npart[-1]}')\n"
   ]
  },
  {
   "cell_type": "code",
   "execution_count": null,
   "id": "8dc3372c",
   "metadata": {},
   "outputs": [],
   "source": [
    "# deviation from the first frame\n",
    "\n",
    "n0 = Npart[0]\n",
    "\n",
    "deviation = []\n",
    "\n",
    "for n in Npart:\n",
    "    \n",
    "    dev_cur = 100 - (n * 100) / n0\n",
    "    \n",
    "    deviation.append( dev_cur )\n",
    "    \n",
    "    print(deviation[-1])\n",
    "    "
   ]
  },
  {
   "cell_type": "code",
   "execution_count": null,
   "id": "dac3df14",
   "metadata": {},
   "outputs": [],
   "source": [
    "fig, ax = plt.subplots(figsize=(10, 6))\n",
    "\n",
    "\n",
    "ax.plot(frames, deviation, marker='o', ms=5, ls='none')\n",
    "\n",
    "ax.axhline(y = 0, ls='--', lw=3, color='orange')\n",
    "\n",
    "ax.axhline(y = -10, ls=':', lw=3, color='red')\n",
    "ax.axhline(y = 10, ls=':', lw=3, color='red')\n",
    "\n",
    "ax.set_xlabel('frames', fontsize=16)\n",
    "ax.set_ylabel('Density deviation (%)', fontsize=16)\n",
    "\n",
    "# ax.set_xscale('log')\n",
    "# ax.set_yscale('log')\n",
    "# plt.legend (fontsize=14)"
   ]
  },
  {
   "cell_type": "code",
   "execution_count": null,
   "id": "9c874c22",
   "metadata": {},
   "outputs": [],
   "source": [
    "# # write to file\n",
    "# DIR = 'data_out/'\n",
    "\n",
    "# file_DR = DIR + 'Displacements_S6T34to18.dat'\n",
    "\n",
    "# df.to_csv(file_DR, index=False)"
   ]
  },
  {
   "cell_type": "code",
   "execution_count": null,
   "id": "8bc3e795",
   "metadata": {},
   "outputs": [],
   "source": []
  }
 ],
 "metadata": {
  "kernelspec": {
   "display_name": "Python 3 (ipykernel)",
   "language": "python",
   "name": "python3"
  },
  "language_info": {
   "codemirror_mode": {
    "name": "ipython",
    "version": 3
   },
   "file_extension": ".py",
   "mimetype": "text/x-python",
   "name": "python",
   "nbconvert_exporter": "python",
   "pygments_lexer": "ipython3",
   "version": "3.11.5"
  }
 },
 "nbformat": 4,
 "nbformat_minor": 5
}
