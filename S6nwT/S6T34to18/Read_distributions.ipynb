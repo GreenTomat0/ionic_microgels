{
 "cells": [
  {
   "cell_type": "code",
   "execution_count": null,
   "id": "54185801",
   "metadata": {},
   "outputs": [],
   "source": [
    "import numpy as np\n",
    "import matplotlib.pyplot as plt\n",
    "import pandas as pd"
   ]
  },
  {
   "cell_type": "code",
   "execution_count": null,
   "id": "5e28137d",
   "metadata": {},
   "outputs": [],
   "source": [
    "def file_path(prefix):\n",
    "    \n",
    "    G_file = f'data_out/backup_{prefix}/Distribution_function_{prefix}.csv'\n",
    "    G_norm_file = f'data_out/backup_{prefix}/Normal_Distribution_function_{prefix}.csv'\n",
    "    \n",
    "    \n",
    "    return G_file, G_norm_file"
   ]
  },
  {
   "cell_type": "code",
   "execution_count": null,
   "id": "5c6dd832",
   "metadata": {},
   "outputs": [],
   "source": [
    "# read from file\n",
    "\n",
    "prefix = '1_2000_4000'\n",
    "\n",
    "G_file, G_norm_file = file_path(prefix) \n",
    "\n",
    "G0 = pd.read_csv(G_file)\n",
    "G0_norm = pd.read_csv(G_norm_file)\n",
    "\n",
    "\n",
    "prefix = '2_6000_8000'\n",
    "\n",
    "G_file, G_norm_file = file_path(prefix) \n",
    "\n",
    "G1 = pd.read_csv(G_file)\n",
    "G1_norm = pd.read_csv(G_norm_file)\n",
    "\n",
    "\n",
    "prefix = '3_0_2000'\n",
    "\n",
    "G_file, G_norm_file = file_path(prefix) \n",
    "\n",
    "G2 = pd.read_csv(G_file)\n",
    "G2_norm = pd.read_csv(G_norm_file)\n",
    "\n",
    "\n",
    "# G1.head"
   ]
  },
  {
   "cell_type": "code",
   "execution_count": null,
   "id": "5179acfd",
   "metadata": {},
   "outputs": [],
   "source": [
    "%matplotlib notebook\n",
    "\n",
    "fig, ax = plt.subplots(figsize=(10, 6))\n",
    "\n",
    "plt.rcParams['axes.labelsize'] = 18\n",
    "\n",
    "\n",
    "plt.plot(G0_norm.r, G0_norm.G, ls='-', lw=2, c='steelblue')\n",
    "plt.plot(G0.r, G0.G, ls='none', lw=1, marker='.', ms=14, markerfacecolor=\"steelblue\", c='steelblue', markevery=8, label=\"[0.6, 1] min\")\n",
    "\n",
    "plt.plot(G1_norm.r, G1_norm.G, ls='-', lw=2, c='red')\n",
    "plt.plot(G1.r, G1.G, ls='none', lw=1, marker='.', ms=14, markerfacecolor=\"red\", c='red', markevery=4, label=\"[3.9, 4.4] min\")\n",
    "\n",
    "plt.plot(G2_norm.r, G2_norm.G, ls='-', lw=2, c='mediumpurple')\n",
    "plt.plot(G2.r, G2.G, ls='none', lw=1, marker='.', ms=14, markerfacecolor=\"mediumpurple\", c='mediumpurple', markevery=4, label=\"[4.4, 5] min\")\n",
    "\n",
    "\n",
    "plt.xlim([-11, 11])\n",
    "plt.ylim([0.007, 0.3])\n",
    "\n",
    "\n",
    "px_to_micron = 0.06905\n",
    "xticks = [-0.6/px_to_micron, -0.3/px_to_micron, 0, 0.3/px_to_micron, 0.6/px_to_micron] #[-10, -5, 0, 5, 10]\n",
    "\n",
    "xticks_micron = [i * px_to_micron for i in xticks]\n",
    "\n",
    "plt.xticks(xticks, xticks_micron, fontsize=14)\n",
    "plt.yticks(fontsize=14)\n",
    "\n",
    "ax.set(ylabel=r'$G_s$',\n",
    "      xlabel=r'r $[\\mu m]$')\n",
    "\n",
    "plt.legend(fontsize=14)\n",
    "\n",
    "plt.yscale('log')"
   ]
  },
  {
   "cell_type": "code",
   "execution_count": null,
   "id": "69fcdcce",
   "metadata": {},
   "outputs": [],
   "source": [
    "# save image\n",
    "\n",
    "# plt.savefig(f'../results/T34to18/Gs_cool1_cool2_cool3.png')"
   ]
  },
  {
   "cell_type": "code",
   "execution_count": null,
   "id": "424f2371",
   "metadata": {},
   "outputs": [],
   "source": []
  }
 ],
 "metadata": {
  "kernelspec": {
   "display_name": "Python 3 (ipykernel)",
   "language": "python",
   "name": "python3"
  },
  "language_info": {
   "codemirror_mode": {
    "name": "ipython",
    "version": 3
   },
   "file_extension": ".py",
   "mimetype": "text/x-python",
   "name": "python",
   "nbconvert_exporter": "python",
   "pygments_lexer": "ipython3",
   "version": "3.11.5"
  }
 },
 "nbformat": 4,
 "nbformat_minor": 5
}
