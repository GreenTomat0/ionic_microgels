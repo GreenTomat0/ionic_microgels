{
 "cells": [
  {
   "cell_type": "code",
   "execution_count": null,
   "id": "e9523fb7",
   "metadata": {},
   "outputs": [],
   "source": [
    "# !pip install PIMS\n",
    "# !pip install trackpy\n",
    "# !pip install pandas==1.5.3\n",
    "# !pip install opencv-python\n",
    "# !pip install plotly\n",
    "# !pip install \"numpy<2\"\n",
    "# !pip install stardist\n",
    "# !pip install tensorflow"
   ]
  },
  {
   "cell_type": "code",
   "execution_count": null,
   "id": "df6b490c",
   "metadata": {},
   "outputs": [],
   "source": [
    "# change the following to %matplotlib notebook for interactive plotting\n",
    "%matplotlib inline\n",
    "\n",
    "import numpy as np\n",
    "print(np.__version__)\n",
    "import pandas as pd\n",
    "\n",
    "import pims\n",
    "import trackpy as tp\n",
    "# print(tp.__version__)\n",
    "import os\n",
    "\n",
    "import cv2\n",
    "\n",
    "import matplotlib  as mpl \n",
    "import matplotlib.pyplot as plt \n",
    "import plotly.express as px\n",
    "\n",
    "# Optionally, tweak styles.\n",
    "mpl.rc('figure',  figsize=(15, 12)) #(10, 6)\n",
    "mpl.rc('image', cmap='gray')"
   ]
  },
  {
   "cell_type": "code",
   "execution_count": null,
   "id": "2867d8a5-7ec8-4ba7-9d14-6bb8c116daba",
   "metadata": {
    "tags": [
     "parameters"
    ]
   },
   "outputs": [],
   "source": [
    "# Parameters\n",
    "\n",
    "sample = 1\n",
    "series = 0\n",
    "subarea = 1"
   ]
  },
  {
   "cell_type": "code",
   "execution_count": null,
   "id": "ef297973",
   "metadata": {},
   "outputs": [],
   "source": [
    "# to read standard files, including tiff stacks, we can use pims.open\n",
    "my_img = pims.open(f'raw_data/sample_{sample}/tiff_series_{sample}_{series}/{subarea}/*.tif')"
   ]
  },
  {
   "cell_type": "code",
   "execution_count": null,
   "id": "af2cf9de",
   "metadata": {},
   "outputs": [],
   "source": [
    "my_img"
   ]
  },
  {
   "cell_type": "code",
   "execution_count": null,
   "id": "a9178c91",
   "metadata": {},
   "outputs": [],
   "source": [
    "my_img.shape"
   ]
  },
  {
   "cell_type": "code",
   "execution_count": null,
   "id": "a5603b2d",
   "metadata": {},
   "outputs": [],
   "source": [
    "from stardist.models import StarDist2D, Config2D\n",
    "from stardist.data import test_image_nuclei_2d\n",
    "from stardist.plot import render_label\n",
    "from csbdeep.utils import normalize\n",
    "import matplotlib.pyplot as plt"
   ]
  },
  {
   "cell_type": "code",
   "execution_count": null,
   "id": "4869968d",
   "metadata": {},
   "outputs": [],
   "source": [
    "# prints a list of available models\n",
    "StarDist2D.from_pretrained()"
   ]
  },
  {
   "cell_type": "code",
   "execution_count": null,
   "id": "8d1141b9",
   "metadata": {},
   "outputs": [],
   "source": [
    "# define a pretrained model to segment nuclei in fluorescence images (download from pretrained)\n",
    "model = StarDist2D.from_pretrained('2D_versatile_fluo') # 2D_versatile_he"
   ]
  },
  {
   "cell_type": "code",
   "execution_count": null,
   "id": "8ec75d61",
   "metadata": {},
   "outputs": [],
   "source": [
    "plt.figure(figsize=(9, 6))\n",
    "plt.imshow(my_img[0], cmap='gray')\n",
    "plt.axis('off')"
   ]
  },
  {
   "cell_type": "code",
   "execution_count": null,
   "id": "60d7117c",
   "metadata": {},
   "outputs": [],
   "source": [
    "@pims.pipeline\n",
    "def stardist_segm(img):\n",
    "#     img = cv2.resize(img, None, fx = 2, fy = 2)\n",
    "    img_labels, img_details = model.predict_instances(normalize(img, 1.0, 99.8), prob_thresh=0.7, nms_thresh=0.8)\n",
    "    return img_labels"
   ]
  },
  {
   "cell_type": "code",
   "execution_count": null,
   "id": "77939af0",
   "metadata": {},
   "outputs": [],
   "source": [
    "label_image = stardist_segm(my_img)"
   ]
  },
  {
   "cell_type": "code",
   "execution_count": null,
   "id": "3d5563e8",
   "metadata": {},
   "outputs": [],
   "source": [
    "label_image"
   ]
  },
  {
   "cell_type": "code",
   "execution_count": null,
   "id": "790db831",
   "metadata": {},
   "outputs": [],
   "source": [
    "img_num = 1\n",
    "\n",
    "plt.subplot(1, 2, 1)\n",
    "plt.imshow(my_img[img_num], cmap='gray')\n",
    "plt.axis('off')\n",
    "plt.title('input image')\n",
    "\n",
    "plt.subplot(1, 2, 2)\n",
    "plt.imshow(render_label(label_image[img_num], img=my_img[img_num]))\n",
    "# plt.imshow(he_labels)\n",
    "plt.axis('off')\n",
    "plt.title('prediction + input overlay')"
   ]
  },
  {
   "cell_type": "code",
   "execution_count": null,
   "id": "4e09b343",
   "metadata": {},
   "outputs": [],
   "source": [
    "import skimage"
   ]
  },
  {
   "cell_type": "code",
   "execution_count": null,
   "id": "523f5043",
   "metadata": {},
   "outputs": [],
   "source": [
    "%%time\n",
    "features = pd.DataFrame()\n",
    "\n",
    "for num, img in enumerate(my_img):\n",
    "    for region in skimage.measure.regionprops(label_image[num], intensity_image=img):\n",
    "        # store fuatures\n",
    "        dataset = pd.DataFrame({\n",
    "            'y': [region.centroid[0]],\n",
    "            'x': [region.centroid[1]],\n",
    "            'frame': [num],\n",
    "            'area': [region.area],\n",
    "            'brightness': [region.intensity_mean],\n",
    "        })\n",
    "        \n",
    "        features = pd.concat([features, dataset])"
   ]
  },
  {
   "cell_type": "code",
   "execution_count": null,
   "id": "1ba85cb9",
   "metadata": {},
   "outputs": [],
   "source": [
    "features.to_csv(f'data_out/sample_{sample}/series_{series}/{subarea}/heatmap_{sample}_{series}.csv.zip', compression='gzip', index=False)"
   ]
  },
  {
   "cell_type": "code",
   "execution_count": null,
   "id": "0359e290",
   "metadata": {},
   "outputs": [],
   "source": [
    "# read 'features' from file \n",
    "\n",
    "# features = pd.read_csv('data_out/S6T34to18_4_0_2000.csv.zip', compression='gzip')\n",
    "# features.head"
   ]
  },
  {
   "cell_type": "code",
   "execution_count": null,
   "id": "3fb4704b",
   "metadata": {},
   "outputs": [],
   "source": [
    "# create copy of features to make modifications\n",
    "features_modif = features.copy()"
   ]
  },
  {
   "cell_type": "code",
   "execution_count": null,
   "id": "bdaaa2c5",
   "metadata": {},
   "outputs": [],
   "source": [
    "tp.annotate(features_modif[features_modif.frame==(9)], my_img[9], plot_style={'markersize':2});\n"
   ]
  },
  {
   "cell_type": "code",
   "execution_count": null,
   "id": "dd956a1b",
   "metadata": {},
   "outputs": [],
   "source": [
    "# plot the brightness (called as 'mass' in trackpy)\n",
    "\n",
    "fig = px.histogram(features_modif['brightness'], nbins=100, template=\"simple_white\")\n",
    "\n",
    "fig.show()"
   ]
  },
  {
   "cell_type": "code",
   "execution_count": null,
   "id": "20d0fda9",
   "metadata": {},
   "outputs": [],
   "source": [
    "# filter out by intensity, then give it the name feature as it was originally\n",
    "\n",
    "features_modif = features_modif.loc[(features_modif['brightness'] > 160)]"
   ]
  },
  {
   "cell_type": "code",
   "execution_count": null,
   "id": "3540d8ad",
   "metadata": {},
   "outputs": [],
   "source": [
    "# plot the brightness (called as 'mass' in trackpy)\n",
    "\n",
    "fig = px.histogram(features_modif['brightness'], nbins=20, template=\"simple_white\")\n",
    "\n",
    "fig.show()"
   ]
  },
  {
   "cell_type": "code",
   "execution_count": null,
   "id": "b09c488d",
   "metadata": {},
   "outputs": [],
   "source": [
    "tp.annotate(features_modif[features_modif.frame==(5)], my_img[5], plot_style={'markersize':2});"
   ]
  },
  {
   "cell_type": "code",
   "execution_count": null,
   "id": "0f62c7bc",
   "metadata": {},
   "outputs": [],
   "source": [
    "# Bubble tracking\n",
    "# we must specify a maximum displacement, the farthest an object can travel between frames (search_range)\n",
    "# We allow for the possibility that an object might be missed for a few frames and then\n",
    "# Memory keeps track of disappeared objects and maintains their ID for up to some number\n",
    "# Here we use 5 frames.\n",
    "# Note that the term particle refers to an object of interest.\n",
    "\n",
    "search_range = 5 #4 #3 #10 #1 \n",
    "t = tp.link_df(features_modif, search_range, memory=5) # memory=5\n",
    "t.head"
   ]
  },
  {
   "cell_type": "code",
   "execution_count": null,
   "id": "d627c221",
   "metadata": {},
   "outputs": [],
   "source": [
    "# is there an overall drift? If so, we need to correct for it\n",
    "drift = tp.compute_drift(t)"
   ]
  },
  {
   "cell_type": "code",
   "execution_count": null,
   "id": "38a2a0c1-b10d-4615-805a-9a4eb9b4e3e7",
   "metadata": {
    "tags": []
   },
   "outputs": [],
   "source": [
    "t.head()"
   ]
  },
  {
   "cell_type": "code",
   "execution_count": null,
   "id": "686fafb9",
   "metadata": {},
   "outputs": [],
   "source": [
    "drift.plot(figsize=(10, 6)) # if there is a horizontal line, there is no drift\n",
    "plt.show()"
   ]
  },
  {
   "cell_type": "code",
   "execution_count": null,
   "id": "f7b507e6",
   "metadata": {},
   "outputs": [],
   "source": [
    "# correct drift\n",
    "t_corrected = tp.subtract_drift(t.copy(), drift)\n",
    "t_corrected.reset_index(drop=True, inplace=True)"
   ]
  },
  {
   "cell_type": "code",
   "execution_count": null,
   "id": "68bf3752",
   "metadata": {},
   "outputs": [],
   "source": [
    "# plot drift plots one more to be sure it works well\n",
    "drift = tp.compute_drift(t_corrected)\n",
    "\n",
    "drift.plot(figsize=(10, 6)) # if there is a horizontal line, there is no drift\n",
    "plt.show()"
   ]
  },
  {
   "cell_type": "code",
   "execution_count": null,
   "id": "19e24ee3",
   "metadata": {},
   "outputs": [],
   "source": [
    "t_corrected.to_csv(f'data_out/sample_{sample}/series_{series}/{subarea}/heatmap_{sample}_{series}.csv', index=False)"
   ]
  },
  {
   "cell_type": "code",
   "execution_count": null,
   "id": "c53f52b6",
   "metadata": {},
   "outputs": [],
   "source": [
    "# Ensemble Mean Squared Displacement\n",
    "\n",
    "# !!! This doesn't work for the latest pandas version (2.0.3). Downgrade version to 1.5.3 (pip install pandas==1.5.3)\n",
    "\n",
    "em = tp.emsd(t_corrected, 0.06905, 60., max_lagtime=1000)"
   ]
  },
  {
   "cell_type": "code",
   "execution_count": null,
   "id": "ed24909b",
   "metadata": {},
   "outputs": [],
   "source": [
    "sqrt_em = np.sqrt(em)"
   ]
  },
  {
   "cell_type": "code",
   "execution_count": null,
   "id": "2a72907b",
   "metadata": {},
   "outputs": [],
   "source": [
    "lagt_crit = 1 #sqrt_em.index[-1]\n",
    "max_sqrt_em = sqrt_em[sqrt_em.index >= lagt_crit].values[0]\n",
    "max_sqrt_em"
   ]
  },
  {
   "cell_type": "code",
   "execution_count": null,
   "id": "2cfd0141",
   "metadata": {},
   "outputs": [],
   "source": [
    "fig, ax = plt.subplots(figsize=(10, 6))\n",
    "# ax.plot(im.index, im, 'o', color='red')\n",
    "ax.plot(em.index, sqrt_em, 'o')\n",
    "# tp.utils.fit_powerlaw(sqrt_em)\n",
    "ax.axvline(x=lagt_crit, color='green')\n",
    "ax.axhline(y=max_sqrt_em, color='green')\n",
    "ax.set(ylabel=r'$\\sqrt{\\langle \\Delta r^2 \\rangle}$ [$\\mu$m]',\n",
    "      xlabel='lag time $t$')\n",
    "ax.set_xlim([0.01, 200])\n",
    "ax.set_xscale('log')\n",
    "ax.set_yscale('log')"
   ]
  },
  {
   "cell_type": "code",
   "execution_count": null,
   "id": "33ef0988",
   "metadata": {},
   "outputs": [],
   "source": [
    "a_s = 1.28 # micrometers\n",
    "\n",
    "R = np.sqrt(3/4) * max_sqrt_em\n",
    "R"
   ]
  },
  {
   "cell_type": "code",
   "execution_count": null,
   "id": "6c8b122e",
   "metadata": {
    "tags": []
   },
   "outputs": [],
   "source": [
    "# write R in file\n",
    "import os.path\n",
    "import csv\n",
    "\n",
    "fname = f\"data_out/sample_{sample}/R_{sample}.csv\"\n",
    "if os.path.exists(fname) == False:\n",
    "    with open(fname, 'w', newline='') as f:\n",
    "        writer = csv.writer(f)\n",
    "        writer.writerow([\"series\", \"subarea\", \"R\"])\n",
    "\n",
    "with open(fname, 'a', newline='') as f:\n",
    "    writer = csv.writer(f)\n",
    "    writer.writerow([series, subarea, R])"
   ]
  },
  {
   "cell_type": "code",
   "execution_count": null,
   "id": "51bd2542-07ef-44b3-afc4-3b55937c6dec",
   "metadata": {},
   "outputs": [],
   "source": []
  }
 ],
 "metadata": {
  "kernelspec": {
   "display_name": "myenv",
   "language": "python",
   "name": "myenv"
  },
  "language_info": {
   "codemirror_mode": {
    "name": "ipython",
    "version": 3
   },
   "file_extension": ".py",
   "mimetype": "text/x-python",
   "name": "python",
   "nbconvert_exporter": "python",
   "pygments_lexer": "ipython3",
   "version": "3.12.4"
  }
 },
 "nbformat": 4,
 "nbformat_minor": 5
}
