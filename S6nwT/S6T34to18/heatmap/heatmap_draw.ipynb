{
 "cells": [
  {
   "cell_type": "code",
   "execution_count": null,
   "id": "b36374e8-98b6-40ba-a3c5-cbf8af510f07",
   "metadata": {
    "tags": []
   },
   "outputs": [],
   "source": [
    "import numpy as np\n",
    "import pandas as pd"
   ]
  },
  {
   "cell_type": "code",
   "execution_count": null,
   "id": "d953f1b5-e918-42e9-965e-f001ffb3e66a",
   "metadata": {
    "tags": []
   },
   "outputs": [],
   "source": [
    "# read dataframe from file\n",
    "# and subtract 0.1*a_s from R values\n",
    "\n",
    "def read_csv(sample_n):\n",
    "    \n",
    "    df = pd.read_csv(f\"/Users/miroshni/Documents/Unifr/Unifr_work/glass_transition_in_emulsions/TrackPy/microgels/feb20/S6nwT/S6T34to18/heatmap/data_out/sample_{sample_n}/R_{sample_n}.csv\")\n",
    "    a_s = 1.28 # in micrometers\n",
    "    df['R'] = df['R'].apply(lambda x: x - 0.1*a_s)\n",
    "    \n",
    "    return df"
   ]
  },
  {
   "cell_type": "code",
   "execution_count": null,
   "id": "b83af5ed-63b1-4716-9b33-67103bfe5fa3",
   "metadata": {
    "tags": []
   },
   "outputs": [],
   "source": [
    "# returns min and max values of R among all dataframes\n",
    "\n",
    "def extremes(*dataframes):\n",
    "    \n",
    "    min_R_global = 100\n",
    "    max_R_global = -100\n",
    "    \n",
    "    for df in dataframes:    \n",
    "        min_R = df.R.min()\n",
    "        max_R = df.R.max()\n",
    "        \n",
    "        if min_R < min_R_global:\n",
    "            min_R_global = min_R\n",
    "        if max_R > max_R_global:\n",
    "            max_R_global = max_R\n",
    "            \n",
    "    \n",
    "    return min_R_global, max_R_global"
   ]
  },
  {
   "cell_type": "code",
   "execution_count": null,
   "id": "1c70556e-9df0-47a0-83e1-3b71696a6e54",
   "metadata": {
    "tags": []
   },
   "outputs": [],
   "source": [
    "df1 = read_csv(1)\n",
    "df2 = read_csv(2)\n",
    "df3 = read_csv(3)\n",
    "df4 = read_csv(4)\n",
    "df5 = read_csv(5)\n",
    "\n",
    "min_R, max_R = extremes(df1, df2, df3, df4, df5)\n",
    "\n",
    "# print(min_R)\n",
    "# print(max_R)"
   ]
  },
  {
   "cell_type": "code",
   "execution_count": null,
   "id": "4a2fd524-75d5-4bd0-b7be-302eff23f4f3",
   "metadata": {
    "tags": []
   },
   "outputs": [],
   "source": [
    "# devide dataframe by series number \n",
    "# and reshape R's to 2x4 matrix\n",
    "\n",
    "def separate_dataframe(df):\n",
    "    \n",
    "    number_of_series = int( df.series.iloc[-1] / 1000 ) + 1 # get last element\n",
    "    separated_dfs = {}\n",
    "    for n in range(0, number_of_series):\n",
    "        list_R = df.loc[df.series == n*1000, 'R'].tolist()\n",
    "        list_R_reshape = np.array(list_R).reshape(2, 4) \n",
    "        separated_dfs[n] = list_R_reshape\n",
    "    \n",
    "    return separated_dfs"
   ]
  },
  {
   "cell_type": "code",
   "execution_count": null,
   "id": "e3c43d4b-8c86-4be3-a255-bcab090187d9",
   "metadata": {
    "tags": []
   },
   "outputs": [],
   "source": [
    "sample_1 = separate_dataframe(df1)\n",
    "sample_2 = separate_dataframe(df2)\n",
    "sample_3 = separate_dataframe(df3)\n",
    "sample_4 = separate_dataframe(df4)\n",
    "sample_5 = separate_dataframe(df5)\n",
    "sample_5"
   ]
  },
  {
   "cell_type": "code",
   "execution_count": null,
   "id": "27e7ff0c-6e03-4cec-a6a5-0b8a4313e9e1",
   "metadata": {
    "tags": []
   },
   "outputs": [],
   "source": [
    "# !pip install seaborn"
   ]
  },
  {
   "cell_type": "code",
   "execution_count": null,
   "id": "da14afc5-3491-4d88-993d-dd811882c758",
   "metadata": {
    "tags": []
   },
   "outputs": [],
   "source": [
    "import matplotlib.pyplot as plt\n",
    "import seaborn as sns"
   ]
  },
  {
   "cell_type": "code",
   "execution_count": null,
   "id": "2ccf680c-a8ce-4185-8e27-9dfc70f8007c",
   "metadata": {
    "tags": []
   },
   "outputs": [],
   "source": [
    "fig, axs = plt.subplots(\n",
    "    nrows = 11,\n",
    "    ncols = 3,\n",
    "    # sharex=True, \n",
    "    # sharey=True,\n",
    "    figsize = (12, 20) #(8, 4)\n",
    ")\n",
    "\n",
    "cbar_ax = fig.add_axes([.91, .3, .03, .4])\n",
    "attr = {'cmap': 'coolwarm', 'vmin': min_R, 'vmax': max_R, 'center': 0, \n",
    "        'annot': True, \n",
    "        'xticklabels': False, 'yticklabels': False, \n",
    "        # 'linewidths': .5, \n",
    "        'cbar_ax': cbar_ax}\n",
    "\n",
    "sns.heatmap(sample_1[0], **attr, ax=axs[0,0])\n",
    "sns.heatmap(sample_1[1], **attr, ax=axs[0,1])\n",
    "sns.heatmap(sample_1[2], **attr, ax=axs[0,2])\n",
    "\n",
    "sns.heatmap(sample_1[3], **attr, ax=axs[1,0])\n",
    "sns.heatmap(sample_1[4], **attr, ax=axs[1,1])\n",
    "sns.heatmap(sample_1[5], **attr, ax=axs[1,2])\n",
    "\n",
    "sns.heatmap(sample_1[6], **attr, ax=axs[2,0])\n",
    "sns.heatmap(sample_1[7], **attr, ax=axs[2,1])\n",
    "sns.heatmap(sample_2[0], **attr, ax=axs[2,2])\n",
    "\n",
    "sns.heatmap(sample_2[1], **attr, ax=axs[3,0])\n",
    "sns.heatmap(sample_2[2], **attr, ax=axs[3,1])\n",
    "sns.heatmap(sample_2[3], **attr, ax=axs[3,2])\n",
    "\n",
    "sns.heatmap(sample_2[4], **attr, ax=axs[4,0])\n",
    "sns.heatmap(sample_2[5], **attr, ax=axs[4,1])\n",
    "sns.heatmap(sample_2[6], **attr, ax=axs[4,2])\n",
    "\n",
    "sns.heatmap(sample_2[7], **attr, ax=axs[5,0])\n",
    "sns.heatmap(sample_3[0], **attr, ax=axs[5,1])\n",
    "sns.heatmap(sample_3[1], **attr, ax=axs[5,2])\n",
    "\n",
    "sns.heatmap(sample_3[2], **attr, ax=axs[6,0])\n",
    "sns.heatmap(sample_3[3], **attr, ax=axs[6,1])\n",
    "sns.heatmap(sample_3[4], **attr, ax=axs[6,2])\n",
    "\n",
    "sns.heatmap(sample_4[0], **attr, ax=axs[7,0])\n",
    "sns.heatmap(sample_4[1], **attr, ax=axs[7,1])\n",
    "sns.heatmap(sample_4[2], **attr, ax=axs[7,2])\n",
    "\n",
    "sns.heatmap(sample_4[3], **attr, ax=axs[8,0])\n",
    "sns.heatmap(sample_4[4], **attr, ax=axs[8,1])\n",
    "sns.heatmap(sample_5[0], **attr, ax=axs[8,2])\n",
    "\n",
    "sns.heatmap(sample_5[1], **attr, ax=axs[9,0])\n",
    "sns.heatmap(sample_5[2], **attr, ax=axs[9,1])\n",
    "sns.heatmap(sample_5[3], **attr, ax=axs[9,2])\n",
    "\n",
    "sns.heatmap(sample_5[4], **attr, ax=axs[10,0])\n",
    "axs[10,1].remove()\n",
    "axs[10,2].remove()"
   ]
  },
  {
   "cell_type": "code",
   "execution_count": null,
   "id": "1c6e9f37-088b-4dd1-bb20-4da086dabc43",
   "metadata": {},
   "outputs": [],
   "source": []
  }
 ],
 "metadata": {
  "kernelspec": {
   "display_name": "myenv",
   "language": "python",
   "name": "myenv"
  },
  "language_info": {
   "codemirror_mode": {
    "name": "ipython",
    "version": 3
   },
   "file_extension": ".py",
   "mimetype": "text/x-python",
   "name": "python",
   "nbconvert_exporter": "python",
   "pygments_lexer": "ipython3",
   "version": "3.12.4"
  }
 },
 "nbformat": 4,
 "nbformat_minor": 5
}
