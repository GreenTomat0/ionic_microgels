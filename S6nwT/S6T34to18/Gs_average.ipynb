{
 "cells": [
  {
   "cell_type": "code",
   "execution_count": null,
   "id": "08b96e41",
   "metadata": {},
   "outputs": [],
   "source": [
    "import numpy as np\n",
    "import math\n",
    "# import pandas as pd\n",
    "import matplotlib.pyplot as plt\n",
    "# import csv\n",
    "# import os\n",
    "%matplotlib inline"
   ]
  },
  {
   "cell_type": "code",
   "execution_count": null,
   "id": "ba7340ad",
   "metadata": {},
   "outputs": [],
   "source": [
    "# def read_file(var0, column_number, file_path):\n",
    "    \n",
    "#     var = var0\n",
    "    \n",
    "#     with open(file_path) as f:\n",
    "#         next(f)\n",
    "#         for rows in f:\n",
    "#             var.append( float(rows.split(',')[column_number]) )\n",
    "            \n",
    "            \n",
    "#     return var"
   ]
  },
  {
   "cell_type": "code",
   "execution_count": null,
   "id": "5bb4e015",
   "metadata": {},
   "outputs": [],
   "source": [
    "# read from file Gs\n",
    "\n",
    "def read_r_Gs(files):\n",
    "\n",
    "    Gs = [0] * len(file_names)\n",
    "    r = []\n",
    "\n",
    "    for i, fn in enumerate(file_names):\n",
    "\n",
    "        file_path = f'data_out/backup_{fn}/G_s_{fn}.dat'\n",
    "\n",
    "        Gs[i] = []\n",
    "        with open(file_path) as f:\n",
    "            next(f)\n",
    "            for rows in f:\n",
    "                Gs[i].append( float(rows.split(',')[1]) )\n",
    "                \n",
    "                if i == 0:\n",
    "                    r.append( float(rows.split(',')[0]) )\n",
    "                    \n",
    "                    \n",
    "#         Gs = read_file(Gs, 1, file_path)\n",
    "    \n",
    "#         if i == 0:\n",
    "#             r = read_file(r, 0, file_path)\n",
    "        \n",
    "                \n",
    "        \n",
    "        \n",
    "    return r, Gs"
   ]
  },
  {
   "cell_type": "code",
   "execution_count": null,
   "id": "7f24c9b9",
   "metadata": {},
   "outputs": [],
   "source": [
    "file_names = [\n",
    "#     '1_0_2000', '1_2000_4000', '1_4000_6000', '1_6000_8000', \n",
    "    '2_0_2000', '2_2000_4000', '2_4000_6000', '2_6000_8000',\n",
    "#     '3_0_2000', '3_2000_5000'\n",
    "]\n",
    "\n",
    "r, Gs = read_r_Gs(file_names)\n",
    "\n",
    "print(len(Gs))\n",
    "print(len(Gs[0]))\n",
    "print(len(r))"
   ]
  },
  {
   "cell_type": "code",
   "execution_count": null,
   "id": "fdc75c99",
   "metadata": {},
   "outputs": [],
   "source": [
    "I = len(Gs)\n",
    "J = len(Gs[0])\n",
    "\n",
    "Gs_mult_sep = np.zeros_like(Gs)\n",
    "\n",
    "for i in range( I ):\n",
    "    for j in range( J ):\n",
    "         \n",
    "        Gs_mult_sep[i][j] = 4. * np.pi * r[j] * r[j] * Gs[i][j]"
   ]
  },
  {
   "cell_type": "code",
   "execution_count": null,
   "id": "8f9ef2d8",
   "metadata": {},
   "outputs": [],
   "source": [
    "Gs_mult_aver = np.zeros_like(r)\n",
    "print(len(Gs_mult_aver))\n",
    "\n",
    "# I = len(Gs)\n",
    "# J = len(Gs[0])\n",
    "\n",
    "transposed_Gs = zip(*Gs)\n",
    "averages = [sum(col) / len(col) for col in transposed_Gs]\n",
    "\n",
    "# averages = np.zeros_like(r)\n",
    "\n",
    "# for j in range( J ):\n",
    "#     averages[j] = 0\n",
    "#     for i in range( I ):\n",
    "    \n",
    "#         averages[j] += Gs[i][j]\n",
    "#     averages[j] = averages[j]/I\n",
    "    \n",
    "    \n",
    "for j in range( J ):\n",
    "    \n",
    "    Gs_mult_aver[j] = 4. * np.pi * r[j] * r[j] * averages[j] #np.mean(Gs[:][j])\n",
    "    \n",
    "print(len(Gs_mult_aver))    "
   ]
  },
  {
   "cell_type": "code",
   "execution_count": null,
   "id": "8048db73",
   "metadata": {},
   "outputs": [],
   "source": [
    "fig, ax = plt.subplots(figsize=(10, 6))\n",
    "\n",
    "\n",
    "# for i, fn in enumerate(file_names):\n",
    "#     ax.plot(r, Gs_mult_sep[i], label=f'{fn}')\n",
    "    \n",
    "ax.plot(r, Gs_mult_aver, ls='-', marker='*', label='Average')\n",
    "    \n",
    "\n",
    "ax.set(xlabel='r',\n",
    "       ylabel=r'$G_s$')\n",
    "plt.legend (fontsize=14)"
   ]
  },
  {
   "cell_type": "code",
   "execution_count": null,
   "id": "beb10260",
   "metadata": {},
   "outputs": [],
   "source": [
    "# convert to microns\n",
    "px_to_micron = 0.06905\n",
    "r_micron = [i*px_to_micron for i in r]\n",
    "Gs_mult_aver_micron = [i*px_to_micron*px_to_micron for i in Gs_mult_aver]"
   ]
  },
  {
   "cell_type": "code",
   "execution_count": null,
   "id": "a7d81769",
   "metadata": {},
   "outputs": [],
   "source": [
    "fig, ax = plt.subplots(figsize=(10, 6))\n",
    "\n",
    "\n",
    "ax.plot(r_micron, Gs_mult_aver_micron, ls='-', marker='*', label='Average')\n",
    "    \n",
    "\n",
    "ax.set(xlabel='r',\n",
    "       ylabel=r'$G_s$')\n",
    "plt.legend (fontsize=14)"
   ]
  },
  {
   "cell_type": "code",
   "execution_count": null,
   "id": "0130550c",
   "metadata": {},
   "outputs": [],
   "source": []
  },
  {
   "cell_type": "code",
   "execution_count": null,
   "id": "60104823",
   "metadata": {},
   "outputs": [],
   "source": []
  }
 ],
 "metadata": {
  "kernelspec": {
   "display_name": "Python 3 (ipykernel)",
   "language": "python",
   "name": "python3"
  },
  "language_info": {
   "codemirror_mode": {
    "name": "ipython",
    "version": 3
   },
   "file_extension": ".py",
   "mimetype": "text/x-python",
   "name": "python",
   "nbconvert_exporter": "python",
   "pygments_lexer": "ipython3",
   "version": "3.11.5"
  }
 },
 "nbformat": 4,
 "nbformat_minor": 5
}
